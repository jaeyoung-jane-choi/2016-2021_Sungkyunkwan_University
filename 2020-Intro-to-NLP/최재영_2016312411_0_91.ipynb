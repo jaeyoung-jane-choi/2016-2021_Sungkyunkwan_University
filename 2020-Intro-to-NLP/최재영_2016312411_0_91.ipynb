{
  "nbformat": 4,
  "nbformat_minor": 0,
  "metadata": {
    "colab": {
      "name": "최재영_2016312411_0.91.ipynb",
      "provenance": [],
      "collapsed_sections": [],
      "machine_shape": "hm"
    },
    "kernelspec": {
      "name": "python3",
      "display_name": "Python 3"
    }
  },
  "cells": [
    {
      "cell_type": "code",
      "metadata": {
        "id": "8kl79JCr6te0",
        "colab_type": "code",
        "colab": {}
      },
      "source": [
        "import numpy as np\n",
        "import pandas as pd"
      ],
      "execution_count": 0,
      "outputs": []
    },
    {
      "cell_type": "markdown",
      "metadata": {
        "id": "eWBFBjJKI8LD",
        "colab_type": "text"
      },
      "source": [
        "## ***1) IMPORTING/LOADING DATA***"
      ]
    },
    {
      "cell_type": "code",
      "metadata": {
        "id": "8bCQEboo5rNV",
        "colab_type": "code",
        "outputId": "c2b8eba7-a44e-49c5-84e5-06e90dc718f1",
        "colab": {
          "base_uri": "https://localhost:8080/",
          "height": 34
        }
      },
      "source": [
        "# IMPORTING DATASET \n",
        "train = pd.read_csv('train.csv')\n",
        "test = pd.read_csv('test.csv')\n",
        "\n",
        "# SPLITTING DATASET  \n",
        "\n",
        "def split(df):\n",
        "  \"\"\"\n",
        "  df: df with x,y value\n",
        "  output:: two df of tuple  \n",
        "  \"\"\"\n",
        "  x = df['text']\n",
        "  y= df['senti']\n",
        "  return (x,y)\n",
        "\n",
        "\n",
        "#combinding dataset \n",
        "def combine(x,y):\n",
        "  \"\"\"\n",
        "  df: df with x,y seperated\n",
        "  output:: combined df  \n",
        "  \"\"\"\n",
        "  \n",
        "  df = pd.concat([x,y], axis =1 )\n",
        "\n",
        "  return df  \n",
        "\n",
        "train_x, train_y = split(train)\n",
        "test_x, test_y = split(test)\n",
        "train_x.shape #(13418,)\n",
        "test_x.shape #(1491,)\n"
      ],
      "execution_count": 51,
      "outputs": [
        {
          "output_type": "execute_result",
          "data": {
            "text/plain": [
              "(1491,)"
            ]
          },
          "metadata": {
            "tags": []
          },
          "execution_count": 51
        }
      ]
    },
    {
      "cell_type": "markdown",
      "metadata": {
        "id": "M688hCgfJEti",
        "colab_type": "text"
      },
      "source": [
        "## ***2) EXPLANATORY DATA ANALYSIS***"
      ]
    },
    {
      "cell_type": "code",
      "metadata": {
        "id": "a9pgIcZ968W4",
        "colab_type": "code",
        "outputId": "9c6dfb31-9481-4187-b2a4-8d9956093391",
        "colab": {
          "base_uri": "https://localhost:8080/",
          "height": 545
        }
      },
      "source": [
        "# EDA: EXPLANATORY DATA ANALYSIS \n",
        "import matplotlib.pyplot as plt\n",
        "%matplotlib inline \n",
        "import seaborn as sns\n",
        "\n",
        "#train_y distribution \n",
        "label =['pos','neg']\n",
        "\n",
        "def distribution_plot(df):\n",
        "  \"\"\"\n",
        "  df: df with y value \n",
        "  output:: plot \n",
        "  \"\"\"\n",
        "  value = df.value_counts()\n",
        "  plt.bar(label,value ,color='skyblue')\n",
        "  plt.title('Sentimental Value In Data')\n",
        "  plt.ylabel('Count')\n",
        "  plt.show()\n",
        "\n",
        "distribution_plot(train_y)\n",
        "distribution_plot(test_y)"
      ],
      "execution_count": 52,
      "outputs": [
        {
          "output_type": "display_data",
          "data": {
            "image/png": "[encoded data removed]",
            "text/plain": [
              "<Figure size 432x288 with 1 Axes>"
            ]
          },
          "metadata": {
            "tags": [],
            "needs_background": "light"
          }
        },
        {
          "output_type": "display_data",
          "data": {
            "image/png": "[encoded data removed]",
            "text/plain": [
              "<Figure size 432x288 with 1 Axes>"
            ]
          },
          "metadata": {
            "tags": [],
            "needs_background": "light"
          }
        }
      ]
    },
    {
      "cell_type": "markdown",
      "metadata": {
        "id": "1n7RR8g2-lcq",
        "colab_type": "text"
      },
      "source": [
        "Both dataset are imbalanced : Can be balanced by...RESAMPLING \n",
        "- (1) Undersampling -Selecting pos data similar to neg data : info loss problem  \n",
        "- (2) Oversampling - duplicating neg data : overfitting issue "
      ]
    },
    {
      "cell_type": "code",
      "metadata": {
        "id": "i3yF_S_3_blJ",
        "colab_type": "code",
        "outputId": "ecc71ad4-44b6-4b7c-d77a-113e015e3cd9",
        "colab": {
          "base_uri": "https://localhost:8080/",
          "height": 918
        }
      },
      "source": [
        "\n",
        "#BALANCING DATASET\n",
        "from sklearn.utils import shuffle\n",
        "\n",
        "from imblearn.under_sampling import RandomUnderSampler\n",
        "\n",
        "us = RandomUnderSampler(random_state = 12 )\n",
        "\n",
        "def undersample_data(df):\n",
        "  \"\"\"\n",
        "  input:: df with neg, pos ; original train/test set \n",
        "  output:: undersampled x, y \n",
        "  \"\"\"\n",
        "  x,y = split(df)\n",
        "\n",
        "  undersample_list, undersample_y = us.fit_resample(df,y) #y is the label data\n",
        "  #undersample_list is a list with data,label \n",
        "\n",
        "  #make list into a df \n",
        "  undersample_df = pd.DataFrame(undersample_list, columns = df.columns)\n",
        "  #shuffle to make order random \n",
        "  undersample_df =shuffle(undersample_df,random_state =12)\n",
        "  undersample_df.reset_index(inplace=True, drop=True)\n",
        "\n",
        "\n",
        "  return undersample_df\n",
        "\n",
        "undersample_new= undersample_data(train)\n",
        "\n",
        "#first plot is not oversampled dataset\n",
        "distribution_plot(train_y)\n",
        "\n",
        "# #distribution plot \n",
        "distribution_plot(undersample_new['senti'])\n",
        "\n",
        "undersample_new.head(10)\n"
      ],
      "execution_count": 53,
      "outputs": [
        {
          "output_type": "stream",
          "text": [
            "/usr/local/lib/python3.6/dist-packages/sklearn/utils/deprecation.py:87: FutureWarning: Function safe_indexing is deprecated; safe_indexing is deprecated in version 0.22 and will be removed in version 0.24.\n",
            "  warnings.warn(msg, category=FutureWarning)\n"
          ],
          "name": "stderr"
        },
        {
          "output_type": "display_data",
          "data": {
            "image/png": "[encoded data removed]",
            "text/plain": [
              "<Figure size 432x288 with 1 Axes>"
            ]
          },
          "metadata": {
            "tags": [],
            "needs_background": "light"
          }
        },
        {
          "output_type": "display_data",
          "data": {
            "image/png": "[encoded data removed]",
            "text/plain": [
              "<Figure size 432x288 with 1 Axes>"
            ]
          },
          "metadata": {
            "tags": [],
            "needs_background": "light"
          }
        },
        {
          "output_type": "execute_result",
          "data": {
            "text/html": [
              "<div>\n",
              "<style scoped>\n",
              "    .dataframe tbody tr th:only-of-type {\n",
              "        vertical-align: middle;\n",
              "    }\n",
              "\n",
              "    .dataframe tbody tr th {\n",
              "        vertical-align: top;\n",
              "    }\n",
              "\n",
              "    .dataframe thead th {\n",
              "        text-align: right;\n",
              "    }\n",
              "</style>\n",
              "<table border=\"1\" class=\"dataframe\">\n",
              "  <thead>\n",
              "    <tr style=\"text-align: right;\">\n",
              "      <th></th>\n",
              "      <th>text</th>\n",
              "      <th>senti</th>\n",
              "    </tr>\n",
              "  </thead>\n",
              "  <tbody>\n",
              "    <tr>\n",
              "      <th>0</th>\n",
              "      <td>I haven't owned a denim jacket since college, ...</td>\n",
              "      <td>pos</td>\n",
              "    </tr>\n",
              "    <tr>\n",
              "      <th>1</th>\n",
              "      <td>Beautiful colors, especially the pink. i am 5'...</td>\n",
              "      <td>pos</td>\n",
              "    </tr>\n",
              "    <tr>\n",
              "      <th>2</th>\n",
              "      <td>Very pretty. love the design both front and back</td>\n",
              "      <td>pos</td>\n",
              "    </tr>\n",
              "    <tr>\n",
              "      <th>3</th>\n",
              "      <td>Love the jacket! so versatile! would probably ...</td>\n",
              "      <td>neg</td>\n",
              "    </tr>\n",
              "    <tr>\n",
              "      <th>4</th>\n",
              "      <td>I fell in love with this top when i first saw ...</td>\n",
              "      <td>pos</td>\n",
              "    </tr>\n",
              "    <tr>\n",
              "      <th>5</th>\n",
              "      <td>I was so excited to wear this shirt, even afte...</td>\n",
              "      <td>neg</td>\n",
              "    </tr>\n",
              "    <tr>\n",
              "      <th>6</th>\n",
              "      <td>This dress is beautiful and surprisingly flatt...</td>\n",
              "      <td>pos</td>\n",
              "    </tr>\n",
              "    <tr>\n",
              "      <th>7</th>\n",
              "      <td>There's something majorly wrong with the way t...</td>\n",
              "      <td>neg</td>\n",
              "    </tr>\n",
              "    <tr>\n",
              "      <th>8</th>\n",
              "      <td>Hi, i would have to agree with all of the revi...</td>\n",
              "      <td>neg</td>\n",
              "    </tr>\n",
              "    <tr>\n",
              "      <th>9</th>\n",
              "      <td>Fits very strange. odd cut. does not look well...</td>\n",
              "      <td>neg</td>\n",
              "    </tr>\n",
              "  </tbody>\n",
              "</table>\n",
              "</div>"
            ],
            "text/plain": [
              "                                                text senti\n",
              "0  I haven't owned a denim jacket since college, ...   pos\n",
              "1  Beautiful colors, especially the pink. i am 5'...   pos\n",
              "2   Very pretty. love the design both front and back   pos\n",
              "3  Love the jacket! so versatile! would probably ...   neg\n",
              "4  I fell in love with this top when i first saw ...   pos\n",
              "5  I was so excited to wear this shirt, even afte...   neg\n",
              "6  This dress is beautiful and surprisingly flatt...   pos\n",
              "7  There's something majorly wrong with the way t...   neg\n",
              "8  Hi, i would have to agree with all of the revi...   neg\n",
              "9  Fits very strange. odd cut. does not look well...   neg"
            ]
          },
          "metadata": {
            "tags": []
          },
          "execution_count": 53
        }
      ]
    },
    {
      "cell_type": "code",
      "metadata": {
        "id": "lUEsyfXqxogC",
        "colab_type": "code",
        "outputId": "0a2f159f-cf91-4f0b-e96f-210dc3edd724",
        "colab": {
          "base_uri": "https://localhost:8080/",
          "height": 1000
        }
      },
      "source": [
        "#Over sample using RandomOverSampler : duplicating dataset \n",
        "\n",
        "from imblearn.over_sampling import RandomOverSampler \n",
        "oversample = RandomOverSampler(random_state = 12)\n",
        "from sklearn.utils import shuffle\n",
        "\n",
        "\n",
        "\n",
        "def over_sample_data(df):\n",
        "  \"\"\"input:: data of train/test original dataset \n",
        "  \n",
        "  output:: oversampled dataset splitted into x and y \"\"\"\n",
        "\n",
        "\n",
        "  x,y = split(df)\n",
        "\n",
        "\n",
        "  oversample_list, oversample_y = oversample.fit_resample(df,y) #y is the label data\n",
        "  #oversample_list is a list with data,label \n",
        "\n",
        "  #make list into a df \n",
        "  oversample_df = pd.DataFrame(oversample_list, columns = df.columns)\n",
        "\n",
        "  #shuffle since the order is pos..neg \n",
        "  oversample_df =shuffle(oversample_df,random_state =12)\n",
        "  oversample_df.reset_index(inplace=True, drop=True) #reset index\n",
        "  \n",
        "  return oversample_df\n",
        "\n",
        "\n",
        "# #Experiment function \n",
        "oversampled_train= over_sample_data(train)\n",
        "\n",
        "#first plot is not oversampled dataset\n",
        "distribution_plot(train_y)\n",
        "\n",
        "\n",
        "#second plot is oversampled dataset \n",
        "distribution_plot(oversampled_train['senti']) \n",
        "oversampled_train.head(20) #now it is mixed "
      ],
      "execution_count": 54,
      "outputs": [
        {
          "output_type": "stream",
          "text": [
            "/usr/local/lib/python3.6/dist-packages/sklearn/utils/deprecation.py:87: FutureWarning: Function safe_indexing is deprecated; safe_indexing is deprecated in version 0.22 and will be removed in version 0.24.\n",
            "  warnings.warn(msg, category=FutureWarning)\n"
          ],
          "name": "stderr"
        },
        {
          "output_type": "display_data",
          "data": {
            "image/png": "[encoded data removed]",
            "text/plain": [
              "<Figure size 432x288 with 1 Axes>"
            ]
          },
          "metadata": {
            "tags": [],
            "needs_background": "light"
          }
        },
        {
          "output_type": "display_data",
          "data": {
            "image/png": "[encoded data removed]",
            "text/plain": [
              "<Figure size 432x288 with 1 Axes>"
            ]
          },
          "metadata": {
            "tags": [],
            "needs_background": "light"
          }
        },
        {
          "output_type": "execute_result",
          "data": {
            "text/html": [
              "<div>\n",
              "<style scoped>\n",
              "    .dataframe tbody tr th:only-of-type {\n",
              "        vertical-align: middle;\n",
              "    }\n",
              "\n",
              "    .dataframe tbody tr th {\n",
              "        vertical-align: top;\n",
              "    }\n",
              "\n",
              "    .dataframe thead th {\n",
              "        text-align: right;\n",
              "    }\n",
              "</style>\n",
              "<table border=\"1\" class=\"dataframe\">\n",
              "  <thead>\n",
              "    <tr style=\"text-align: right;\">\n",
              "      <th></th>\n",
              "      <th>text</th>\n",
              "      <th>senti</th>\n",
              "    </tr>\n",
              "  </thead>\n",
              "  <tbody>\n",
              "    <tr>\n",
              "      <th>0</th>\n",
              "      <td>Wow, this dress is so incredibly designed and ...</td>\n",
              "      <td>pos</td>\n",
              "    </tr>\n",
              "    <tr>\n",
              "      <th>1</th>\n",
              "      <td>Ugh, i hate that this didn't work! the top sho...</td>\n",
              "      <td>neg</td>\n",
              "    </tr>\n",
              "    <tr>\n",
              "      <th>2</th>\n",
              "      <td>I own another dolan dress which is virtually t...</td>\n",
              "      <td>pos</td>\n",
              "    </tr>\n",
              "    <tr>\n",
              "      <th>3</th>\n",
              "      <td>I waited to review as i ordered both colors an...</td>\n",
              "      <td>pos</td>\n",
              "    </tr>\n",
              "    <tr>\n",
              "      <th>4</th>\n",
              "      <td>I'll admit, i had a lot of sticker shock when ...</td>\n",
              "      <td>pos</td>\n",
              "    </tr>\n",
              "    <tr>\n",
              "      <th>5</th>\n",
              "      <td>This top is true to size and fits perfectly.  ...</td>\n",
              "      <td>pos</td>\n",
              "    </tr>\n",
              "    <tr>\n",
              "      <th>6</th>\n",
              "      <td>Such a lovely shirt and even though it is whit...</td>\n",
              "      <td>pos</td>\n",
              "    </tr>\n",
              "    <tr>\n",
              "      <th>7</th>\n",
              "      <td>Great, lightweight pants for summer!!! size do...</td>\n",
              "      <td>pos</td>\n",
              "    </tr>\n",
              "    <tr>\n",
              "      <th>8</th>\n",
              "      <td>I've been looking at these for some time and i...</td>\n",
              "      <td>pos</td>\n",
              "    </tr>\n",
              "    <tr>\n",
              "      <th>9</th>\n",
              "      <td>Wide fit. usually an 8-10 at retailer. got a l...</td>\n",
              "      <td>pos</td>\n",
              "    </tr>\n",
              "    <tr>\n",
              "      <th>10</th>\n",
              "      <td>I love this little jean jacket! i am petite an...</td>\n",
              "      <td>pos</td>\n",
              "    </tr>\n",
              "    <tr>\n",
              "      <th>11</th>\n",
              "      <td>I purchased this in 2 colors. the black which ...</td>\n",
              "      <td>pos</td>\n",
              "    </tr>\n",
              "    <tr>\n",
              "      <th>12</th>\n",
              "      <td>Super easy and cute. i received lots of compli...</td>\n",
              "      <td>pos</td>\n",
              "    </tr>\n",
              "    <tr>\n",
              "      <th>13</th>\n",
              "      <td>This dress just fits weird. maybe it works for...</td>\n",
              "      <td>neg</td>\n",
              "    </tr>\n",
              "    <tr>\n",
              "      <th>14</th>\n",
              "      <td>Got these in my usual size and they are wonder...</td>\n",
              "      <td>pos</td>\n",
              "    </tr>\n",
              "    <tr>\n",
              "      <th>15</th>\n",
              "      <td>This top looks great on the model -- a petite ...</td>\n",
              "      <td>neg</td>\n",
              "    </tr>\n",
              "    <tr>\n",
              "      <th>16</th>\n",
              "      <td>It's a beautiful top but not for bigger busts....</td>\n",
              "      <td>neg</td>\n",
              "    </tr>\n",
              "    <tr>\n",
              "      <th>17</th>\n",
              "      <td>While i love the fabric and the pattern, this ...</td>\n",
              "      <td>neg</td>\n",
              "    </tr>\n",
              "    <tr>\n",
              "      <th>18</th>\n",
              "      <td>I thought these pants had a great fit and the ...</td>\n",
              "      <td>pos</td>\n",
              "    </tr>\n",
              "    <tr>\n",
              "      <th>19</th>\n",
              "      <td>Saw this top on-line and thought i would give ...</td>\n",
              "      <td>pos</td>\n",
              "    </tr>\n",
              "  </tbody>\n",
              "</table>\n",
              "</div>"
            ],
            "text/plain": [
              "                                                 text senti\n",
              "0   Wow, this dress is so incredibly designed and ...   pos\n",
              "1   Ugh, i hate that this didn't work! the top sho...   neg\n",
              "2   I own another dolan dress which is virtually t...   pos\n",
              "3   I waited to review as i ordered both colors an...   pos\n",
              "4   I'll admit, i had a lot of sticker shock when ...   pos\n",
              "5   This top is true to size and fits perfectly.  ...   pos\n",
              "6   Such a lovely shirt and even though it is whit...   pos\n",
              "7   Great, lightweight pants for summer!!! size do...   pos\n",
              "8   I've been looking at these for some time and i...   pos\n",
              "9   Wide fit. usually an 8-10 at retailer. got a l...   pos\n",
              "10  I love this little jean jacket! i am petite an...   pos\n",
              "11  I purchased this in 2 colors. the black which ...   pos\n",
              "12  Super easy and cute. i received lots of compli...   pos\n",
              "13  This dress just fits weird. maybe it works for...   neg\n",
              "14  Got these in my usual size and they are wonder...   pos\n",
              "15  This top looks great on the model -- a petite ...   neg\n",
              "16  It's a beautiful top but not for bigger busts....   neg\n",
              "17  While i love the fabric and the pattern, this ...   neg\n",
              "18  I thought these pants had a great fit and the ...   pos\n",
              "19  Saw this top on-line and thought i would give ...   pos"
            ]
          },
          "metadata": {
            "tags": []
          },
          "execution_count": 54
        }
      ]
    },
    {
      "cell_type": "markdown",
      "metadata": {
        "id": "qDu24maWJPgA",
        "colab_type": "text"
      },
      "source": [
        "## ***3) PREPROCESSING DATA***"
      ]
    },
    {
      "cell_type": "code",
      "metadata": {
        "id": "iFT-7Ysc95-N",
        "colab_type": "code",
        "outputId": "a0a36fe5-ddf0-4f36-fdc1-f93cdf9e8e65",
        "colab": {
          "base_uri": "https://localhost:8080/",
          "height": 208
        }
      },
      "source": [
        "#PREPROCESSING \n",
        "\n",
        "\n",
        "\n",
        "#before vectorizing data : preprocess \n",
        "# import nltk\n",
        "# nltk.download('stopwords')\n",
        "\n",
        "from nltk import word_tokenize\n",
        "\n",
        "from nltk.corpus import stopwords\n",
        "\n",
        "import re \n",
        "\n",
        "\n",
        "def preprocess_data(df):\n",
        "  \"\"\"input:: input x dataset ,y dataset (combined dataset __ex: train )\n",
        "\n",
        "  output:: cleaned x dataset/label combined   \"\"\"\n",
        "\n",
        "  x,y = split(df)\n",
        "\n",
        "  newx = []\n",
        "  for rownum,line in enumerate(x): #string data \n",
        "    #make string with lower cases \n",
        "    line = line.strip().lower()\n",
        "    # print(line)\n",
        "\n",
        "    #delete seperation in sentence \n",
        "    line = re.sub(pattern = '\\r*\\n',repl=' ',string = line) \n",
        "    # print('original: '+ line)\n",
        "\n",
        "    #delete sentence starting with one word \n",
        "    line = re.sub(pattern = r'^[a-z]{1}\\s',repl='',string = line)\n",
        "    # print('1: '+line)\n",
        "\n",
        "    # #delete info about height , weight , breast size\n",
        "    \n",
        "    line = re.sub(pattern = r'\\d\\'\\s*\\d*[\\\"\\']*',repl=' ',string = line)  #height \n",
        "    line = re.sub(pattern = r'[01234567890]+\\s{0,1}lbs{0,1}',repl=' ',string = line)  #weight \n",
        "    line = re.sub(pattern = r'[01234567890]+\\w', repl='',string =line ) #size\n",
        "    # print('2: '+line)\n",
        "\n",
        "    # #delete non-words\n",
        "    line = re.sub(pattern = r'[\\W]',repl=' ',string = line) \n",
        "    # print('3: '+line)\n",
        "    \n",
        "    # #delete numbers : any digit\n",
        "    line = re.sub(pattern = r'[1234567890]+',repl=' ',string = line)\n",
        "    # print('4: '+line)\n",
        "    \n",
        "\n",
        "    # delete one-letter\n",
        "    line = re.sub(pattern = r'\\b[a-z]\\b',repl=' ',string = line)\n",
        "    # print('5: '+line)\n",
        "\n",
        "    # delete two or more blank \n",
        "    line = re.sub(pattern = r'\\s{2,}',repl=' ',string = line)\n",
        "    # print('6: '+line)\n",
        "\n",
        "    # delete __\n",
        "    line = re.sub(pattern = r'_{1,}',repl=' ',string = line)\n",
        "    \n",
        "    newx.append(line)\n",
        "\n",
        "\n",
        "  newx = pd.Series(newx) \n",
        "  df = pd.concat([newx,y], axis =1)\n",
        "  df.rename(columns = {0: 'text'}, inplace = True)\n",
        "  \n",
        "\n",
        "  return df #cleaned dataset combined with data,label \n",
        "\n",
        "#example \n",
        "clean_train =preprocess_data(train)\n",
        "clean_test =preprocess_data(test)\n",
        "clean_train['text'].head(10)\n",
        "clean_test['text'].head(10)"
      ],
      "execution_count": 55,
      "outputs": [
        {
          "output_type": "execute_result",
          "data": {
            "text/plain": [
              "0    have to disagree with previous posters found j...\n",
              "1    love everything about this top first it super ...\n",
              "2    this dress has marilyn feel to it felt like dream\n",
              "3    these cords are great the fit the style everyt...\n",
              "4    this top fit perfectly but too much of my bra ...\n",
              "5    it is very comfortable and the fabric is amazi...\n",
              "6    these jeans are one of my all time favorite ag...\n",
              "7    this is great jacket for fall layering love th...\n",
              "8    just received this in the mail today and haven...\n",
              "9    this piece is gorgeous in person it is more of...\n",
              "Name: text, dtype: object"
            ]
          },
          "metadata": {
            "tags": []
          },
          "execution_count": 55
        }
      ]
    },
    {
      "cell_type": "code",
      "metadata": {
        "id": "d0ik-d2XWjGJ",
        "colab_type": "code",
        "outputId": "b257b738-e828-4056-df60-808243ed045f",
        "colab": {
          "base_uri": "https://localhost:8080/",
          "height": 34
        }
      },
      "source": [
        "#preprocess on y_train\n",
        "\n",
        "from sklearn import preprocessing\n",
        "\n",
        "\n",
        "def label_encoding(df):\n",
        "  \"\"\"input:: label y df (train/testy) \n",
        "  \n",
        "  output:: label encoded df of y\"\"\"\n",
        "  encode = preprocessing.LabelEncoder()\n",
        "  # print(df)\n",
        "  df= encode.fit_transform(df)\n",
        "  # print(df) pos:1 \n",
        "\n",
        "  return df  \n",
        "\n",
        "\n",
        "\n",
        "\n",
        "label_encoding(train_y) #array of one column np.ndarray \n"
      ],
      "execution_count": 56,
      "outputs": [
        {
          "output_type": "execute_result",
          "data": {
            "text/plain": [
              "array([1, 1, 1, ..., 1, 0, 1])"
            ]
          },
          "metadata": {
            "tags": []
          },
          "execution_count": 56
        }
      ]
    },
    {
      "cell_type": "markdown",
      "metadata": {
        "id": "F6Fz_HWxWjEE",
        "colab_type": "text"
      },
      "source": [
        "  ## ***4) VECTORIZING DATA***"
      ]
    },
    {
      "cell_type": "code",
      "metadata": {
        "id": "gFUEZx5mWMGG",
        "colab_type": "code",
        "outputId": "7e31c7b5-fe2b-4701-b799-5e4ca200e713",
        "colab": {
          "base_uri": "https://localhost:8080/",
          "height": 34
        }
      },
      "source": [
        "#vectorizing dataset in various ways :: tfidf, tf, tfbigram, one-hot encoding \n",
        "\n",
        "from sklearn.feature_extraction.text import CountVectorizer\n",
        "tf = CountVectorizer( stop_words='english') #delete stop words in dataset \n",
        "onehot = CountVectorizer( stop_words='english', binary=True)\n",
        "bigram_tf = CountVectorizer( stop_words='english', ngram_range=(2,2))\n",
        "\n",
        "from sklearn.feature_extraction.text import TfidfVectorizer\n",
        "tfidf = TfidfVectorizer(stop_words = 'english')\n",
        "\n",
        "def vectorize_data(train,test,condition):\n",
        "  \"\"\"input:: combinded cleaned dataset including(x,y) of train/test , condition : tf, onehot, bigram, tfidf\n",
        "\n",
        "  output:: vectorized dataset x, label y combined (tf, tfdif one-hot encoding ordered ) \"\"\"\n",
        "\n",
        "  #split the dataset first \n",
        "  train_x,train_y = split(train)\n",
        "  test_x, test_y = split(test)\n",
        "\n",
        "  ##USING TF COUNT VECTORIZER \n",
        "\n",
        "  if condition == 'tf':\n",
        "\n",
        "    tf_train_x = tf.fit_transform(train_x)\n",
        "  # print(tf.vocabulary_)\n",
        "\n",
        "    tf_train_x_array = tf_train_x.toarray()\n",
        "  # print(tf_train_x_array)\n",
        "  # print(tf_train_x_array.shape)\n",
        "    tf_test_x = tf.transform(test_x)\n",
        "    tf_test_x_array = tf_test_x.toarray()\n",
        "\n",
        "  # print(tf_test_x_array)\n",
        "  # print(tf_test_x_array.sum(axis=0)[10:20]) not zero : works \n",
        "  # print(tf_test_x_array.shape)\n",
        "\n",
        "  #final: tf_train_x_array,tf_test_x_array\n",
        "\n",
        "    train_array = tf_train_x_array\n",
        "    test_array = tf_test_x_array\n",
        "\n",
        "\n",
        "  elif condition == 'bigram': #too big process -- not use \n",
        "  ##USING BIGRAM VECTORIZER \n",
        "\n",
        "    bigram_tf_train_x = bigram_tf.fit_transform(train_x)\n",
        "    bigram_tf_train_x_array = bigram_tf_train_x.toarray()\n",
        "    bigram_tf_test_x = bigram_tf.transform(test_x)\n",
        "    bigram_tf_test_x_array = bigram_tf_test_x.toarray()\n",
        "\n",
        "  #final: bigram_tf_train_x_array,bigram_tf_test_x_array\n",
        "\n",
        "    train_array = bigram_tf_train_x_array\n",
        "    test_array = bigram_tf_test_x_array\n",
        "\n",
        "  ##USING TFIDF VECTORIZER \n",
        "\n",
        "  elif condition == 'tfidf':\n",
        "\n",
        "    tfidf_train_x = tfidf.fit_transform(train_x)\n",
        "    tfidf_train_x_array = tfidf_train_x.toarray()\n",
        "    tfidf_test_x = tfidf.transform(test_x)\n",
        "    tfidf_test_x_array = tfidf_test_x.toarray()\n",
        "\n",
        "  #final: tfidf_train_x_array,tfidf_test_x_array\n",
        "\n",
        "    train_array = tfidf_train_x_array\n",
        "    test_array = tfidf_test_x_array\n",
        "\n",
        "  ##USING ONEHOT VECTORIZER \n",
        "\n",
        "  elif condition == 'onehot':\n",
        "\n",
        "    onehot_train_x = onehot.fit_transform(train_x)\n",
        "    onehot_train_x_array = onehot_train_x.toarray()\n",
        "    onehot_test_x = onehot.transform(test_x)\n",
        "    onehot_test_x_array = onehot_test_x.toarray()\n",
        "\n",
        "  #final : onehot_train_x_array, onehot_test_x_array\n",
        "\n",
        "    train_array = onehot_train_x_array\n",
        "    test_array = onehot_test_x_array\n",
        "\n",
        "\n",
        "  #returns X_array of train/test +  y label  : vectorized arrays \n",
        "  return train_array,train_y , test_array,  test_y \n",
        "  \n",
        "\n",
        "# experiment function \n",
        "tf_train,train_y, tf_test , test_y = vectorize_data(clean_train,clean_test,'tf')\n",
        "\n",
        "train_y.shape #(13418,) ; obs is 13418 \n",
        "tf_train.shape #(13418,10560) ;there are 10560 words in the dataset of train \n"
      ],
      "execution_count": 57,
      "outputs": [
        {
          "output_type": "execute_result",
          "data": {
            "text/plain": [
              "(13418, 10552)"
            ]
          },
          "metadata": {
            "tags": []
          },
          "execution_count": 57
        }
      ]
    },
    {
      "cell_type": "markdown",
      "metadata": {
        "id": "YVNhg7hHWmiW",
        "colab_type": "text"
      },
      "source": [
        "## ***5) MODELING DATA***"
      ]
    },
    {
      "cell_type": "code",
      "metadata": {
        "id": "YHyh57678-Qh",
        "colab_type": "code",
        "outputId": "63f502e0-54d4-4571-e771-2f1d977ff4b7",
        "colab": {
          "base_uri": "https://localhost:8080/",
          "height": 138
        }
      },
      "source": [
        "#MODELING FUNCTION\n",
        "from sklearn.naive_bayes import MultinomialNB\n",
        "from sklearn.linear_model import LogisticRegression\n",
        "from sklearn import metrics\n",
        "from sklearn.preprocessing import StandardScaler\n",
        "from sklearn.model_selection import train_test_split\n",
        "from sklearn.model_selection import cross_val_score, cross_val_predict\n",
        "from sklearn.svm import LinearSVC\n",
        "\n",
        "\n",
        "\n",
        "#example \n",
        "tfidf_train,train_y, tfidf_test, test_y = vectorize_data(clean_train,clean_test,'tfidf')\n",
        "\n",
        "def modeling_data(train_x, train_y, test_x, test_y,condition):\n",
        "  \"\"\"input:: vectorized trainset of x,y, test set of each, condition will be machine learning techniques: naviebaye(nb), logistic regression(lr).. decision tree(dt)...\n",
        "\n",
        "  output:: f1_score \"\"\"\n",
        "\n",
        "  #split dataset with validation dataset \n",
        "  # train_x, val_x, train_y, val_y = train_test_split(train_x, train_y,train_size =.7 , random_state=123)\n",
        "  # print(train_x.shape)\n",
        "  # print(val_x.shape)\n",
        "  # print(train_y.shape)\n",
        "  # print(val_y.shape)\n",
        "\n",
        "  label_train = label_encoding(train_y) #1,0 presentation \n",
        "  # label_train = label_encoding(val_y)  \n",
        "  label_test = label_encoding(test_y)\n",
        "\n",
        "  if condition == 'nb': #not need to be scaled \n",
        "    clt = MultinomialNB( alpha = .35)\n",
        "    clt.fit(train_x,label_train)\n",
        "    # print(cross_val_score(clt, train_x, train_y, cv=5).mean() )\n",
        "    # pred = clt.predict(test_x)\n",
        "    # f1 = metrics.f1_score(test_y,pred,average='macro') \n",
        "    # print(classification_report(test_y, predictions))\n",
        "\n",
        "    return test_x, label_test , clt \n",
        "\n",
        "    \n",
        "\n",
        "  elif condition == 'lr': #lr needs to be scaled \n",
        "    \n",
        "    scaler = StandardScaler()\n",
        "    train_x = scaler.fit_transform(train_x)\n",
        "    test_x =scaler.fit_transform(test_x)\n",
        "\n",
        "    lr = LogisticRegression(max_iter=15000 )\n",
        "    lr.fit(train_x,label_train)\n",
        "    # pred = lr.predict(test_x)\n",
        "    # f1 = metrics.f1_score(label_test,pred,average='macro') \n",
        "    # print(classification_report(test_y, predictions))\n",
        "    return test_x, label_test , lr #use labeled dataset \n",
        " \n",
        "  #too much process needed ;; \n",
        "\n",
        "  elif condition == 'svm': #needs to be scaled\n",
        "    scaler = StandardScaler() \n",
        "    train_x = scaler.fit_transform(train_x)\n",
        "    test_x =scaler.fit_transform(test_x)\n",
        "\n",
        "    clf = LinearSVC(C=.01)\n",
        "    clf.fit(train_x, label_train) #label train contains 0,1 \n",
        "    # pred = clf.predict(test_x)\n",
        "    # f1 = metrics.f1_score(label_test,pred,average='macro') \n",
        "    # print(classification_report(test_y, predictions))\n",
        "\n",
        "    return test_x, label_test , clf\n",
        "\n",
        "\n",
        "\n",
        "\n",
        "#usage example \n",
        "\n",
        "print(modeling_data(tfidf_train,train_y, tfidf_test, test_y,'nb'))\n"
      ],
      "execution_count": 58,
      "outputs": [
        {
          "output_type": "stream",
          "text": [
            "(array([[0., 0., 0., ..., 0., 0., 0.],\n",
            "       [0., 0., 0., ..., 0., 0., 0.],\n",
            "       [0., 0., 0., ..., 0., 0., 0.],\n",
            "       ...,\n",
            "       [0., 0., 0., ..., 0., 0., 0.],\n",
            "       [0., 0., 0., ..., 0., 0., 0.],\n",
            "       [0., 0., 0., ..., 0., 0., 0.]]), array([1, 1, 1, ..., 1, 1, 1]), MultinomialNB(alpha=0.35, class_prior=None, fit_prior=True))\n"
          ],
          "name": "stdout"
        }
      ]
    },
    {
      "cell_type": "code",
      "metadata": {
        "id": "eAg6R-C8SuHz",
        "colab_type": "code",
        "colab": {}
      },
      "source": [
        "#USE DEEPLEARNING \n",
        "# !pip install keras\n",
        "from sklearn.metrics import classification_report\n",
        "\n",
        "#since binary classification last node needs to be sigmoid \n",
        "from keras import models\n",
        "from keras import layers\n",
        "\n",
        "def deep_learning(train_x,train_y, test_x, test_y):\n",
        "\n",
        "  label_train = label_encoding(train_y) #1,0 presentation \n",
        "  label_test = label_encoding(test_y)\n",
        "  label_train = np.asarray(label_train).astype('float32')\n",
        "  label_test = np.asarray(label_test).astype('float32')\n",
        "\n",
        "  #scale dataset \n",
        "  scaler = StandardScaler()\n",
        "  train_x = scaler.fit_transform(train_x)\n",
        "  test_x =scaler.fit_transform(test_x)\n",
        "\n",
        "\n",
        "  num = int(train_x.shape[0])\n",
        "  x_val = train_x[-num:]\n",
        "  y_val = label_train[-num:]\n",
        "  x_train = train_x[:-num]\n",
        "  y_train = label_train[:-num]\n",
        "\n",
        "  \n",
        "  \n",
        "  model = models.Sequential()\n",
        "  \n",
        "  model.add(layers.Dense(500, activation = 'relu', input_shape = (train_x.shape[1],))) #input layer :needs specific input_shape \n",
        "  model.add(layers.Dense(100,activation='relu')) #hidden layer using relu \n",
        "  model.add(layers.Dense(10,activation='relu')) #hidden layer using relu \n",
        "  model.add(layers.Dense(1,activation = 'sigmoid')) #output layer(binary  1): using sigmoid 0 or 1 \n",
        "\n",
        "  \n",
        "  model.compile(optimizer = 'adadelta', loss= 'binary_crossentropy', metrics =['accuracy'])\n",
        "\n",
        "  history = model.fit(train_x, label_train, epochs=5, batch_size= 512, validation_data=(x_val, y_val) )\n",
        "\n",
        "\n",
        "\n",
        "  history_dict = history.history\n",
        "  history_dict.keys()\n",
        "  acc= history.history['accuracy']\n",
        "  val_acc = history.history['val_accuracy']\n",
        "  loss = history.history['loss']\n",
        "  val_loss = history.history['val_loss']\n",
        "  epochs = range(1,len(acc)+1)\n",
        "  plt.plot(epochs, acc, 'r', label = 'Training accuracy')\n",
        "  plt.plot(epochs, val_acc, 'b', label = 'Validation accuracy')\n",
        "  plt.title('Training and validation accuracy')\n",
        "  plt.xlabel('Epochs')\n",
        "  plt.ylabel('Accuracy')\n",
        "  plt.legend()\n",
        "\n",
        "  plt.show()\n",
        "\n",
        "\n",
        "  prediction_y = model.predict_classes(test_x, verbose= 0) \n",
        "  # print(prediction_y)\n",
        "  print(classification_report(label_test, prediction_y)) \n",
        "\n",
        "\n",
        "  # return classification_report(label_test, prediction_y)\n",
        "\n",
        "#example :: \n",
        "# deep_learning(tfidf_train,train_y, tfidf_test, test_y)"
      ],
      "execution_count": 0,
      "outputs": []
    },
    {
      "cell_type": "markdown",
      "metadata": {
        "id": "kBsdNg6yWrFR",
        "colab_type": "text"
      },
      "source": [
        "## ***6) EVALUATION***"
      ]
    },
    {
      "cell_type": "code",
      "metadata": {
        "id": "r6PBd1n14ySM",
        "colab_type": "code",
        "colab": {}
      },
      "source": [
        "from sklearn.metrics import classification_report\n",
        "#EVALUATION \n",
        "def evaluate(test_x,test_y,model):\n",
        "  predictions = model.predict(test_x)\n",
        "  # print(predictions)\n",
        "  # print(predictions.shape)\n",
        "  print(classification_report(test_y, predictions)) #evaluation function\n",
        "\n",
        "#example \n",
        "# evaluate(test_x, test_y, model)\n"
      ],
      "execution_count": 0,
      "outputs": []
    },
    {
      "cell_type": "markdown",
      "metadata": {
        "id": "WwtPgQC_Wyc_",
        "colab_type": "text"
      },
      "source": [
        "## ***7) APPLICATION TO DATA***"
      ]
    },
    {
      "cell_type": "markdown",
      "metadata": {
        "id": "mm0NKV6oZE_2",
        "colab_type": "text"
      },
      "source": [
        "*(1) ORIGINAL dataset*"
      ]
    },
    {
      "cell_type": "code",
      "metadata": {
        "id": "F6eavC4GYMUT",
        "colab_type": "code",
        "colab": {}
      },
      "source": [
        "\n",
        "#try on original dataset where no oversample/undersample is done \n",
        "\n",
        "clean_train =preprocess_data(train)\n",
        "clean_test =preprocess_data(test)\n",
        "\n",
        "#DIFFERENCE IN VECTORIZING DATASET \n",
        "tf_train,train_y, tf_test , test_y = vectorize_data(clean_train,clean_test,'tf')\n",
        "tfidf_train,train_y, tfidf_test , test_y = vectorize_data(clean_train,clean_test,'tfidf')\n",
        "onehot_train,train_y, onehot_test , test_y = vectorize_data(clean_train,clean_test,'onehot')\n",
        "\n"
      ],
      "execution_count": 0,
      "outputs": []
    },
    {
      "cell_type": "code",
      "metadata": {
        "id": "tkRzddpGYSkr",
        "colab_type": "code",
        "outputId": "bfd6b2dd-cf36-4438-b375-ac1347a7fd95",
        "colab": {
          "base_uri": "https://localhost:8080/",
          "height": 485
        }
      },
      "source": [
        "#MODELING DATASET :: tf_data \n",
        "test_x, test_y, model =modeling_data(tf_train,train_y, tf_test , test_y,'nb')\n",
        "nb_tf = evaluate(test_x, test_y, model)\n",
        "\n",
        "test_x, test_y, model =modeling_data(tf_train,train_y, tf_test , test_y,'lr')\n",
        "lr_tf = evaluate(test_x, test_y, model)\n",
        "\n",
        "\n",
        "test_x, test_y, model =modeling_data(tf_train,train_y, tf_test , test_y,'svm')\n",
        "svm_tfidf = evaluate(test_x, test_y, model)"
      ],
      "execution_count": 62,
      "outputs": [
        {
          "output_type": "stream",
          "text": [
            "              precision    recall  f1-score   support\n",
            "\n",
            "           0       0.84      0.85      0.85       231\n",
            "           1       0.97      0.97      0.97      1260\n",
            "\n",
            "    accuracy                           0.95      1491\n",
            "   macro avg       0.91      0.91      0.91      1491\n",
            "weighted avg       0.95      0.95      0.95      1491\n",
            "\n",
            "              precision    recall  f1-score   support\n",
            "\n",
            "           0       0.75      0.71      0.73       231\n",
            "           1       0.95      0.96      0.95      1260\n",
            "\n",
            "    accuracy                           0.92      1491\n",
            "   macro avg       0.85      0.83      0.84      1491\n",
            "weighted avg       0.92      0.92      0.92      1491\n",
            "\n",
            "              precision    recall  f1-score   support\n",
            "\n",
            "           0       0.57      0.81      0.67       231\n",
            "           1       0.96      0.89      0.92      1260\n",
            "\n",
            "    accuracy                           0.88      1491\n",
            "   macro avg       0.77      0.85      0.80      1491\n",
            "weighted avg       0.90      0.88      0.88      1491\n",
            "\n"
          ],
          "name": "stdout"
        }
      ]
    },
    {
      "cell_type": "code",
      "metadata": {
        "id": "xN9QTOoXY1Yj",
        "colab_type": "code",
        "outputId": "79af5a67-8a11-4b92-d363-bab4db2bc24f",
        "colab": {
          "base_uri": "https://localhost:8080/",
          "height": 485
        }
      },
      "source": [
        "#MODELING DATASET :: tfidf_data \n",
        "test_x, test_y, model =modeling_data(tfidf_train,train_y, tfidf_test , test_y,'nb')\n",
        "nb_tfidf = evaluate(test_x, test_y, model)\n",
        "\n",
        "test_x, test_y, model =modeling_data(tfidf_train,train_y, tfidf_test , test_y,'lr')\n",
        "lr_tfidf = evaluate(test_x, test_y, model)\n",
        "\n",
        "\n",
        "test_x, test_y, model =modeling_data(tfidf_train,train_y, tfidf_test , test_y,'svm')\n",
        "svm_tfidf = evaluate(test_x, test_y, model)\n"
      ],
      "execution_count": 63,
      "outputs": [
        {
          "output_type": "stream",
          "text": [
            "              precision    recall  f1-score   support\n",
            "\n",
            "           0       0.96      0.30      0.46       231\n",
            "           1       0.89      1.00      0.94      1260\n",
            "\n",
            "    accuracy                           0.89      1491\n",
            "   macro avg       0.92      0.65      0.70      1491\n",
            "weighted avg       0.90      0.89      0.86      1491\n",
            "\n",
            "              precision    recall  f1-score   support\n",
            "\n",
            "           0       0.78      0.68      0.73       231\n",
            "           1       0.94      0.97      0.95      1260\n",
            "\n",
            "    accuracy                           0.92      1491\n",
            "   macro avg       0.86      0.82      0.84      1491\n",
            "weighted avg       0.92      0.92      0.92      1491\n",
            "\n",
            "              precision    recall  f1-score   support\n",
            "\n",
            "           0       0.58      0.78      0.66       231\n",
            "           1       0.96      0.89      0.92      1260\n",
            "\n",
            "    accuracy                           0.88      1491\n",
            "   macro avg       0.77      0.84      0.79      1491\n",
            "weighted avg       0.90      0.88      0.88      1491\n",
            "\n"
          ],
          "name": "stdout"
        }
      ]
    },
    {
      "cell_type": "code",
      "metadata": {
        "id": "ey_Weav5YzED",
        "colab_type": "code",
        "outputId": "4c6c91e1-a904-4981-9e1c-dcbe86392ecf",
        "colab": {
          "base_uri": "https://localhost:8080/",
          "height": 485
        }
      },
      "source": [
        "#MODELING DATASET :: onehot_data \n",
        "test_x, test_y, model =modeling_data(onehot_train,train_y, onehot_test , test_y ,'nb')\n",
        "nb_onehot = evaluate(test_x, test_y, model)\n",
        "\n",
        "test_x, test_y, model =modeling_data(onehot_train,train_y, onehot_test , test_y ,'lr')\n",
        "lr_onehot = evaluate(test_x, test_y, model)\n",
        "\n",
        "\n",
        "test_x, test_y, model =modeling_data(onehot_train,train_y, onehot_test , test_y ,'svm')\n",
        "svm_onehot = evaluate(test_x, test_y, model)\n"
      ],
      "execution_count": 64,
      "outputs": [
        {
          "output_type": "stream",
          "text": [
            "              precision    recall  f1-score   support\n",
            "\n",
            "           0       0.85      0.83      0.84       231\n",
            "           1       0.97      0.97      0.97      1260\n",
            "\n",
            "    accuracy                           0.95      1491\n",
            "   macro avg       0.91      0.90      0.90      1491\n",
            "weighted avg       0.95      0.95      0.95      1491\n",
            "\n",
            "              precision    recall  f1-score   support\n",
            "\n",
            "           0       0.75      0.70      0.72       231\n",
            "           1       0.95      0.96      0.95      1260\n",
            "\n",
            "    accuracy                           0.92      1491\n",
            "   macro avg       0.85      0.83      0.84      1491\n",
            "weighted avg       0.91      0.92      0.92      1491\n",
            "\n",
            "              precision    recall  f1-score   support\n",
            "\n",
            "           0       0.59      0.83      0.69       231\n",
            "           1       0.97      0.90      0.93      1260\n",
            "\n",
            "    accuracy                           0.88      1491\n",
            "   macro avg       0.78      0.86      0.81      1491\n",
            "weighted avg       0.91      0.88      0.89      1491\n",
            "\n"
          ],
          "name": "stdout"
        }
      ]
    },
    {
      "cell_type": "code",
      "metadata": {
        "id": "NyjGrGU_YwYF",
        "colab_type": "code",
        "outputId": "2397cc37-35d3-4a89-a42e-702adbb71a88",
        "colab": {
          "base_uri": "https://localhost:8080/",
          "height": 1000
        }
      },
      "source": [
        "\n",
        "#MODELING DATASET :: tf_data - deeplearning \n",
        "\n",
        "deep_learning(tf_train,train_y, tf_test , test_y)\n",
        "\n",
        "#MODELING DATASET :: tfidf_data - deeplearning \n",
        "\n",
        "deep_learning(tfidf_train,train_y, tfidf_test , test_y)\n",
        "\n",
        "#MODELING DATASET :: onehot_data - deeplearning \n",
        "deep_learning(onehot_train,train_y, onehot_test , test_y )\n"
      ],
      "execution_count": 65,
      "outputs": [
        {
          "output_type": "stream",
          "text": [
            "Train on 13418 samples, validate on 13418 samples\n",
            "Epoch 1/5\n",
            "13418/13418 [==============================] - 6s 451us/step - loss: 0.3557 - accuracy: 0.8717 - val_loss: 0.0816 - val_accuracy: 0.9827\n",
            "Epoch 2/5\n",
            "13418/13418 [==============================] - 6s 424us/step - loss: 0.0666 - accuracy: 0.9814 - val_loss: 0.0315 - val_accuracy: 0.9941\n",
            "Epoch 3/5\n",
            "13418/13418 [==============================] - 6s 427us/step - loss: 0.0265 - accuracy: 0.9933 - val_loss: 0.0147 - val_accuracy: 0.9970\n",
            "Epoch 4/5\n",
            "13418/13418 [==============================] - 6s 423us/step - loss: 0.0139 - accuracy: 0.9968 - val_loss: 0.0088 - val_accuracy: 0.9983\n",
            "Epoch 5/5\n",
            "13418/13418 [==============================] - 6s 419us/step - loss: 0.0085 - accuracy: 0.9980 - val_loss: 0.0068 - val_accuracy: 0.9993\n"
          ],
          "name": "stdout"
        },
        {
          "output_type": "display_data",
          "data": {
            "image/png": "[encoded data removed]",
            "text/plain": [
              "<Figure size 432x288 with 1 Axes>"
            ]
          },
          "metadata": {
            "tags": [],
            "needs_background": "light"
          }
        },
        {
          "output_type": "stream",
          "text": [
            "              precision    recall  f1-score   support\n",
            "\n",
            "         0.0       0.72      0.84      0.78       231\n",
            "         1.0       0.97      0.94      0.95      1260\n",
            "\n",
            "    accuracy                           0.92      1491\n",
            "   macro avg       0.85      0.89      0.87      1491\n",
            "weighted avg       0.93      0.92      0.93      1491\n",
            "\n",
            "Train on 13418 samples, validate on 13418 samples\n",
            "Epoch 1/5\n",
            "13418/13418 [==============================] - 6s 422us/step - loss: 0.3396 - accuracy: 0.8793 - val_loss: 0.0695 - val_accuracy: 0.9854\n",
            "Epoch 2/5\n",
            "13418/13418 [==============================] - 5s 405us/step - loss: 0.0523 - accuracy: 0.9853 - val_loss: 0.0196 - val_accuracy: 0.9965\n",
            "Epoch 3/5\n",
            "13418/13418 [==============================] - 5s 407us/step - loss: 0.0178 - accuracy: 0.9960 - val_loss: 0.0094 - val_accuracy: 0.9983\n",
            "Epoch 4/5\n",
            "13418/13418 [==============================] - 5s 406us/step - loss: 0.0087 - accuracy: 0.9982 - val_loss: 0.0053 - val_accuracy: 0.9991\n",
            "Epoch 5/5\n",
            "13418/13418 [==============================] - 6s 419us/step - loss: 0.0049 - accuracy: 0.9991 - val_loss: 0.0034 - val_accuracy: 0.9994\n"
          ],
          "name": "stdout"
        },
        {
          "output_type": "display_data",
          "data": {
            "image/png": "[encoded data removed]",
            "text/plain": [
              "<Figure size 432x288 with 1 Axes>"
            ]
          },
          "metadata": {
            "tags": [],
            "needs_background": "light"
          }
        },
        {
          "output_type": "stream",
          "text": [
            "              precision    recall  f1-score   support\n",
            "\n",
            "         0.0       0.75      0.82      0.78       231\n",
            "         1.0       0.97      0.95      0.96      1260\n",
            "\n",
            "    accuracy                           0.93      1491\n",
            "   macro avg       0.86      0.89      0.87      1491\n",
            "weighted avg       0.93      0.93      0.93      1491\n",
            "\n",
            "Train on 13418 samples, validate on 13418 samples\n",
            "Epoch 1/5\n",
            "13418/13418 [==============================] - 6s 442us/step - loss: 0.3595 - accuracy: 0.8526 - val_loss: 0.1569 - val_accuracy: 0.9700\n",
            "Epoch 2/5\n",
            "13418/13418 [==============================] - 6s 437us/step - loss: 0.0928 - accuracy: 0.9721 - val_loss: 0.0355 - val_accuracy: 0.9920\n",
            "Epoch 3/5\n",
            "13418/13418 [==============================] - 6s 437us/step - loss: 0.0302 - accuracy: 0.9911 - val_loss: 0.0157 - val_accuracy: 0.9959\n",
            "Epoch 4/5\n",
            "13418/13418 [==============================] - 6s 436us/step - loss: 0.0148 - accuracy: 0.9959 - val_loss: 0.0090 - val_accuracy: 0.9981\n",
            "Epoch 5/5\n",
            "13418/13418 [==============================] - 6s 433us/step - loss: 0.0087 - accuracy: 0.9979 - val_loss: 0.0057 - val_accuracy: 0.9990\n"
          ],
          "name": "stdout"
        },
        {
          "output_type": "display_data",
          "data": {
            "image/png": "[encoded data removed]",
            "text/plain": [
              "<Figure size 432x288 with 1 Axes>"
            ]
          },
          "metadata": {
            "tags": [],
            "needs_background": "light"
          }
        },
        {
          "output_type": "stream",
          "text": [
            "              precision    recall  f1-score   support\n",
            "\n",
            "         0.0       0.81      0.80      0.81       231\n",
            "         1.0       0.96      0.97      0.96      1260\n",
            "\n",
            "    accuracy                           0.94      1491\n",
            "   macro avg       0.89      0.88      0.89      1491\n",
            "weighted avg       0.94      0.94      0.94      1491\n",
            "\n"
          ],
          "name": "stdout"
        }
      ]
    },
    {
      "cell_type": "markdown",
      "metadata": {
        "id": "RrvV1V1hem2K",
        "colab_type": "text"
      },
      "source": [
        "# **ORIGINAL DATASET ::  IMBALANCED**\n",
        "\n",
        "\n",
        "**ML BEST:: tf - NB ::RESULTING 0.90 -> .91 by updating parameters**\n",
        "\n",
        "\n",
        "---\n",
        "\n",
        "\n",
        "**DL:: tfidf  ::RESULTING .83 -> ,89 by updating paraters**"
      ]
    },
    {
      "cell_type": "markdown",
      "metadata": {
        "id": "P4fMKZ7wY4tk",
        "colab_type": "text"
      },
      "source": [
        "*(2) Undersampled dataset*"
      ]
    },
    {
      "cell_type": "code",
      "metadata": {
        "id": "Gq3MUZpMFgP6",
        "colab_type": "code",
        "outputId": "e20d0621-d090-467f-a6ec-fd0f66762e67",
        "colab": {
          "base_uri": "https://localhost:8080/",
          "height": 654
        }
      },
      "source": [
        "#USING UNDERSAMPLING \n",
        "undersample_train= undersample_data(train)\n",
        "distribution_plot(undersample_train['senti'])\n",
        "#EQUAL PREPROCESSING STAGE \n",
        "clean_train =preprocess_data(undersample_train)\n",
        "clean_test =preprocess_data(test)\n",
        "\n",
        "#DIFFERENCE IN VECTORIZING DATASET \n",
        "tf_train,train_y, tf_test , test_y = vectorize_data(clean_train,clean_test,'tf')\n",
        "tfidf_train,train_y, tfidf_test , test_y = vectorize_data(clean_train,clean_test,'tfidf')\n",
        "onehot_train,train_y, onehot_test , test_y = vectorize_data(clean_train,clean_test,'onehot')\n",
        "\n",
        "\n",
        "clean_train.head(10)"
      ],
      "execution_count": 66,
      "outputs": [
        {
          "output_type": "stream",
          "text": [
            "/usr/local/lib/python3.6/dist-packages/sklearn/utils/deprecation.py:87: FutureWarning: Function safe_indexing is deprecated; safe_indexing is deprecated in version 0.22 and will be removed in version 0.24.\n",
            "  warnings.warn(msg, category=FutureWarning)\n"
          ],
          "name": "stderr"
        },
        {
          "output_type": "display_data",
          "data": {
            "image/png": "[encoded data removed]",
            "text/plain": [
              "<Figure size 432x288 with 1 Axes>"
            ]
          },
          "metadata": {
            "tags": [],
            "needs_background": "light"
          }
        },
        {
          "output_type": "execute_result",
          "data": {
            "text/html": [
              "<div>\n",
              "<style scoped>\n",
              "    .dataframe tbody tr th:only-of-type {\n",
              "        vertical-align: middle;\n",
              "    }\n",
              "\n",
              "    .dataframe tbody tr th {\n",
              "        vertical-align: top;\n",
              "    }\n",
              "\n",
              "    .dataframe thead th {\n",
              "        text-align: right;\n",
              "    }\n",
              "</style>\n",
              "<table border=\"1\" class=\"dataframe\">\n",
              "  <thead>\n",
              "    <tr style=\"text-align: right;\">\n",
              "      <th></th>\n",
              "      <th>text</th>\n",
              "      <th>senti</th>\n",
              "    </tr>\n",
              "  </thead>\n",
              "  <tbody>\n",
              "    <tr>\n",
              "      <th>0</th>\n",
              "      <td>haven owned denim jacket since college but fel...</td>\n",
              "      <td>pos</td>\n",
              "    </tr>\n",
              "    <tr>\n",
              "      <th>1</th>\n",
              "      <td>beautiful colors especially the pink am and ab...</td>\n",
              "      <td>pos</td>\n",
              "    </tr>\n",
              "    <tr>\n",
              "      <th>2</th>\n",
              "      <td>very pretty love the design both front and back</td>\n",
              "      <td>pos</td>\n",
              "    </tr>\n",
              "    <tr>\n",
              "      <th>3</th>\n",
              "      <td>love the jacket so versatile would probably or...</td>\n",
              "      <td>neg</td>\n",
              "    </tr>\n",
              "    <tr>\n",
              "      <th>4</th>\n",
              "      <td>fell in love with this top when first saw it i...</td>\n",
              "      <td>pos</td>\n",
              "    </tr>\n",
              "    <tr>\n",
              "      <th>5</th>\n",
              "      <td>was so excited to wear this shirt even after r...</td>\n",
              "      <td>neg</td>\n",
              "    </tr>\n",
              "    <tr>\n",
              "      <th>6</th>\n",
              "      <td>this dress is beautiful and surprisingly flatt...</td>\n",
              "      <td>pos</td>\n",
              "    </tr>\n",
              "    <tr>\n",
              "      <th>7</th>\n",
              "      <td>there something majorly wrong with the way the...</td>\n",
              "      <td>neg</td>\n",
              "    </tr>\n",
              "    <tr>\n",
              "      <th>8</th>\n",
              "      <td>hi would have to agree with all of the reviewe...</td>\n",
              "      <td>neg</td>\n",
              "    </tr>\n",
              "    <tr>\n",
              "      <th>9</th>\n",
              "      <td>fits very strange odd cut does not look well on</td>\n",
              "      <td>neg</td>\n",
              "    </tr>\n",
              "  </tbody>\n",
              "</table>\n",
              "</div>"
            ],
            "text/plain": [
              "                                                text senti\n",
              "0  haven owned denim jacket since college but fel...   pos\n",
              "1  beautiful colors especially the pink am and ab...   pos\n",
              "2    very pretty love the design both front and back   pos\n",
              "3  love the jacket so versatile would probably or...   neg\n",
              "4  fell in love with this top when first saw it i...   pos\n",
              "5  was so excited to wear this shirt even after r...   neg\n",
              "6  this dress is beautiful and surprisingly flatt...   pos\n",
              "7  there something majorly wrong with the way the...   neg\n",
              "8  hi would have to agree with all of the reviewe...   neg\n",
              "9   fits very strange odd cut does not look well on    neg"
            ]
          },
          "metadata": {
            "tags": []
          },
          "execution_count": 66
        }
      ]
    },
    {
      "cell_type": "code",
      "metadata": {
        "id": "9xiOx13VJlwU",
        "colab_type": "code",
        "outputId": "de79dcfc-08c2-4529-cf2f-0d84e3543a7c",
        "colab": {
          "base_uri": "https://localhost:8080/",
          "height": 485
        }
      },
      "source": [
        "#MODELING DATASET :: tf_data \n",
        "test_x, test_y, model =modeling_data(tf_train,train_y, tf_test , test_y,'nb')\n",
        "nb_tf = evaluate(test_x, test_y, model)\n",
        "\n",
        "test_x, test_y, model =modeling_data(tf_train,train_y, tf_test , test_y,'lr')\n",
        "lr_tf = evaluate(test_x, test_y, model)\n",
        "\n",
        "\n",
        "test_x, test_y, model =modeling_data(tf_train,train_y, tf_test , test_y,'svm')\n",
        "svm_tf = evaluate(test_x, test_y, model)\n"
      ],
      "execution_count": 67,
      "outputs": [
        {
          "output_type": "stream",
          "text": [
            "              precision    recall  f1-score   support\n",
            "\n",
            "           0       0.65      0.93      0.77       231\n",
            "           1       0.99      0.91      0.95      1260\n",
            "\n",
            "    accuracy                           0.91      1491\n",
            "   macro avg       0.82      0.92      0.86      1491\n",
            "weighted avg       0.93      0.91      0.92      1491\n",
            "\n",
            "              precision    recall  f1-score   support\n",
            "\n",
            "           0       0.35      0.95      0.52       231\n",
            "           1       0.99      0.68      0.81      1260\n",
            "\n",
            "    accuracy                           0.72      1491\n",
            "   macro avg       0.67      0.82      0.66      1491\n",
            "weighted avg       0.89      0.72      0.76      1491\n",
            "\n",
            "              precision    recall  f1-score   support\n",
            "\n",
            "           0       0.35      0.95      0.51       231\n",
            "           1       0.99      0.68      0.80      1260\n",
            "\n",
            "    accuracy                           0.72      1491\n",
            "   macro avg       0.67      0.81      0.66      1491\n",
            "weighted avg       0.89      0.72      0.76      1491\n",
            "\n"
          ],
          "name": "stdout"
        }
      ]
    },
    {
      "cell_type": "code",
      "metadata": {
        "id": "0mfrRI_s_rT9",
        "colab_type": "code",
        "outputId": "53ce9bb1-9feb-4a0c-c956-ba25d2b415f1",
        "colab": {
          "base_uri": "https://localhost:8080/",
          "height": 485
        }
      },
      "source": [
        "#MODELING DATASET :: tfidf_data \n",
        "test_x, test_y, model =modeling_data(tfidf_train,train_y, tfidf_test , test_y,'nb')\n",
        "nb_tfidf = evaluate(test_x, test_y, model)\n",
        "\n",
        "test_x, test_y, model =modeling_data(tfidf_train,train_y, tfidf_test , test_y,'lr')\n",
        "lr_tfidf = evaluate(test_x, test_y, model)\n",
        "\n",
        "\n",
        "test_x, test_y, model =modeling_data(tfidf_train,train_y, tfidf_test , test_y,'svm')\n",
        "svm_tfidf = evaluate(test_x, test_y, model)\n"
      ],
      "execution_count": 68,
      "outputs": [
        {
          "output_type": "stream",
          "text": [
            "              precision    recall  f1-score   support\n",
            "\n",
            "           0       0.66      0.93      0.77       231\n",
            "           1       0.99      0.91      0.95      1260\n",
            "\n",
            "    accuracy                           0.91      1491\n",
            "   macro avg       0.82      0.92      0.86      1491\n",
            "weighted avg       0.93      0.91      0.92      1491\n",
            "\n",
            "              precision    recall  f1-score   support\n",
            "\n",
            "           0       0.35      0.96      0.51       231\n",
            "           1       0.99      0.67      0.80      1260\n",
            "\n",
            "    accuracy                           0.72      1491\n",
            "   macro avg       0.67      0.82      0.66      1491\n",
            "weighted avg       0.89      0.72      0.76      1491\n",
            "\n",
            "              precision    recall  f1-score   support\n",
            "\n",
            "           0       0.34      0.94      0.50       231\n",
            "           1       0.98      0.67      0.79      1260\n",
            "\n",
            "    accuracy                           0.71      1491\n",
            "   macro avg       0.66      0.80      0.65      1491\n",
            "weighted avg       0.88      0.71      0.75      1491\n",
            "\n"
          ],
          "name": "stdout"
        }
      ]
    },
    {
      "cell_type": "code",
      "metadata": {
        "id": "VlQ5aG6sPkQN",
        "colab_type": "code",
        "outputId": "f6b347d0-b635-48e6-97b5-a538d39ec0ff",
        "colab": {
          "base_uri": "https://localhost:8080/",
          "height": 485
        }
      },
      "source": [
        "#MODELING DATASET :: onehot_data \n",
        "test_x, test_y, model =modeling_data(onehot_train,train_y, onehot_test , test_y ,'nb')\n",
        "nb_onehot = evaluate(test_x, test_y, model)\n",
        "\n",
        "test_x, test_y, model =modeling_data(onehot_train,train_y, onehot_test , test_y ,'lr')\n",
        "lr_onehot = evaluate(test_x, test_y, model)\n",
        "\n",
        "\n",
        "test_x, test_y, model =modeling_data(onehot_train,train_y, onehot_test , test_y ,'svm')\n",
        "svm_onehot = evaluate(test_x, test_y, model)\n"
      ],
      "execution_count": 69,
      "outputs": [
        {
          "output_type": "stream",
          "text": [
            "              precision    recall  f1-score   support\n",
            "\n",
            "           0       0.65      0.94      0.77       231\n",
            "           1       0.99      0.91      0.95      1260\n",
            "\n",
            "    accuracy                           0.91      1491\n",
            "   macro avg       0.82      0.92      0.86      1491\n",
            "weighted avg       0.93      0.91      0.92      1491\n",
            "\n",
            "              precision    recall  f1-score   support\n",
            "\n",
            "           0       0.35      0.97      0.52       231\n",
            "           1       0.99      0.68      0.80      1260\n",
            "\n",
            "    accuracy                           0.72      1491\n",
            "   macro avg       0.67      0.82      0.66      1491\n",
            "weighted avg       0.89      0.72      0.76      1491\n",
            "\n",
            "              precision    recall  f1-score   support\n",
            "\n",
            "           0       0.35      0.95      0.51       231\n",
            "           1       0.99      0.68      0.80      1260\n",
            "\n",
            "    accuracy                           0.72      1491\n",
            "   macro avg       0.67      0.81      0.66      1491\n",
            "weighted avg       0.89      0.72      0.76      1491\n",
            "\n"
          ],
          "name": "stdout"
        }
      ]
    },
    {
      "cell_type": "code",
      "metadata": {
        "id": "4r5BszAuii4Y",
        "colab_type": "code",
        "outputId": "27191bbc-99c0-418f-e5be-3d447b2d76ad",
        "colab": {
          "base_uri": "https://localhost:8080/",
          "height": 1000
        }
      },
      "source": [
        "#UNDERSAMPLE DATASET \n",
        "#MODELING DATASET :: tf_data - deeplearning \n",
        "\n",
        "deep_learning(tf_train,train_y, tf_test , test_y)\n",
        "\n",
        "#MODELING DATASET :: tfidf_data - deeplearning \n",
        "\n",
        "deep_learning(tfidf_train,train_y, tfidf_test , test_y)\n",
        "\n",
        "#MODELING DATASET :: onehot_data - deeplearning \n",
        "deep_learning(onehot_train,train_y, onehot_test , test_y )\n"
      ],
      "execution_count": 70,
      "outputs": [
        {
          "output_type": "stream",
          "text": [
            "Train on 4278 samples, validate on 4278 samples\n",
            "Epoch 1/5\n",
            "4278/4278 [==============================] - 1s 295us/step - loss: 0.6343 - accuracy: 0.6758 - val_loss: 0.2472 - val_accuracy: 0.9624\n",
            "Epoch 2/5\n",
            "4278/4278 [==============================] - 1s 254us/step - loss: 0.1964 - accuracy: 0.9635 - val_loss: 0.0828 - val_accuracy: 0.9909\n",
            "Epoch 3/5\n",
            "4278/4278 [==============================] - 1s 257us/step - loss: 0.0689 - accuracy: 0.9899 - val_loss: 0.0404 - val_accuracy: 0.9963\n",
            "Epoch 4/5\n",
            "4278/4278 [==============================] - 1s 251us/step - loss: 0.0366 - accuracy: 0.9951 - val_loss: 0.0250 - val_accuracy: 0.9979\n",
            "Epoch 5/5\n",
            "4278/4278 [==============================] - 1s 252us/step - loss: 0.0233 - accuracy: 0.9977 - val_loss: 0.0173 - val_accuracy: 0.9981\n"
          ],
          "name": "stdout"
        },
        {
          "output_type": "display_data",
          "data": {
            "image/png": "[encoded data removed]",
            "text/plain": [
              "<Figure size 432x288 with 1 Axes>"
            ]
          },
          "metadata": {
            "tags": [],
            "needs_background": "light"
          }
        },
        {
          "output_type": "stream",
          "text": [
            "              precision    recall  f1-score   support\n",
            "\n",
            "         0.0       0.38      0.97      0.54       231\n",
            "         1.0       0.99      0.71      0.82      1260\n",
            "\n",
            "    accuracy                           0.75      1491\n",
            "   macro avg       0.68      0.84      0.68      1491\n",
            "weighted avg       0.90      0.75      0.78      1491\n",
            "\n",
            "Train on 4278 samples, validate on 4278 samples\n",
            "Epoch 1/5\n",
            "4278/4278 [==============================] - 1s 281us/step - loss: 0.6508 - accuracy: 0.6351 - val_loss: 0.3694 - val_accuracy: 0.9007\n",
            "Epoch 2/5\n",
            "4278/4278 [==============================] - 1s 261us/step - loss: 0.2555 - accuracy: 0.9301 - val_loss: 0.2333 - val_accuracy: 0.8997\n",
            "Epoch 3/5\n",
            "4278/4278 [==============================] - 1s 257us/step - loss: 0.0842 - accuracy: 0.9771 - val_loss: 0.0272 - val_accuracy: 0.9963\n",
            "Epoch 4/5\n",
            "4278/4278 [==============================] - 1s 253us/step - loss: 0.0245 - accuracy: 0.9963 - val_loss: 0.0145 - val_accuracy: 0.9986\n",
            "Epoch 5/5\n",
            "4278/4278 [==============================] - 1s 255us/step - loss: 0.0133 - accuracy: 0.9986 - val_loss: 0.0091 - val_accuracy: 0.9993\n"
          ],
          "name": "stdout"
        },
        {
          "output_type": "display_data",
          "data": {
            "image/png": "[encoded data removed]",
            "text/plain": [
              "<Figure size 432x288 with 1 Axes>"
            ]
          },
          "metadata": {
            "tags": [],
            "needs_background": "light"
          }
        },
        {
          "output_type": "stream",
          "text": [
            "              precision    recall  f1-score   support\n",
            "\n",
            "         0.0       0.38      0.97      0.55       231\n",
            "         1.0       0.99      0.71      0.83      1260\n",
            "\n",
            "    accuracy                           0.75      1491\n",
            "   macro avg       0.69      0.84      0.69      1491\n",
            "weighted avg       0.90      0.75      0.78      1491\n",
            "\n",
            "Train on 4278 samples, validate on 4278 samples\n",
            "Epoch 1/5\n",
            "4278/4278 [==============================] - 1s 281us/step - loss: 0.6475 - accuracy: 0.6625 - val_loss: 0.2336 - val_accuracy: 0.9614\n",
            "Epoch 2/5\n",
            "4278/4278 [==============================] - 1s 258us/step - loss: 0.1877 - accuracy: 0.9596 - val_loss: 0.0772 - val_accuracy: 0.9895\n",
            "Epoch 3/5\n",
            "4278/4278 [==============================] - 1s 263us/step - loss: 0.0675 - accuracy: 0.9899 - val_loss: 0.0386 - val_accuracy: 0.9963\n",
            "Epoch 4/5\n",
            "4278/4278 [==============================] - 1s 253us/step - loss: 0.0357 - accuracy: 0.9960 - val_loss: 0.0242 - val_accuracy: 0.9984\n",
            "Epoch 5/5\n",
            "4278/4278 [==============================] - 1s 252us/step - loss: 0.0228 - accuracy: 0.9984 - val_loss: 0.0166 - val_accuracy: 0.9986\n"
          ],
          "name": "stdout"
        },
        {
          "output_type": "display_data",
          "data": {
            "image/png": "[encoded data removed]",
            "text/plain": [
              "<Figure size 432x288 with 1 Axes>"
            ]
          },
          "metadata": {
            "tags": [],
            "needs_background": "light"
          }
        },
        {
          "output_type": "stream",
          "text": [
            "              precision    recall  f1-score   support\n",
            "\n",
            "         0.0       0.36      0.98      0.53       231\n",
            "         1.0       0.99      0.69      0.81      1260\n",
            "\n",
            "    accuracy                           0.73      1491\n",
            "   macro avg       0.68      0.83      0.67      1491\n",
            "weighted avg       0.90      0.73      0.77      1491\n",
            "\n"
          ],
          "name": "stdout"
        }
      ]
    },
    {
      "cell_type": "markdown",
      "metadata": {
        "id": "IjOhu_BBR4q0",
        "colab_type": "text"
      },
      "source": [
        "# **UNDERSAMPLING::  DATA LOSS**\n",
        "\n",
        "\n",
        "**ML BEST:: NB ::RESULTING .86**\n",
        "\n",
        "\n",
        "---\n",
        "\n",
        "\n",
        "**DL:: tfidf ENCODING ::RESULTING .69**"
      ]
    },
    {
      "cell_type": "markdown",
      "metadata": {
        "id": "wsLBosSOY9LW",
        "colab_type": "text"
      },
      "source": [
        "*(3) OVERsampled data*"
      ]
    },
    {
      "cell_type": "code",
      "metadata": {
        "id": "nN4H1MkPRKFu",
        "colab_type": "code",
        "outputId": "15566be0-283f-4250-9657-553605bdd335",
        "colab": {
          "base_uri": "https://localhost:8080/",
          "height": 654
        }
      },
      "source": [
        "#USING OVERSAMPLING \n",
        "oversample_train= over_sample_data(train)\n",
        "distribution_plot(oversample_train['senti'])\n",
        "#EQUAL PREPROCESSING STAGE \n",
        "\n",
        "clean_train =preprocess_data(oversample_train)\n",
        "clean_test =preprocess_data(test)\n",
        "\n",
        "#DIFFERENCE IN VECTORIZING DATASET \n",
        "tf_train,train_y, tf_test , test_y = vectorize_data(clean_train,clean_test,'tf')\n",
        "tfidf_train,train_y, tfidf_test , test_y = vectorize_data(clean_train,clean_test,'tfidf')\n",
        "onehot_train,train_y, onehot_test , test_y = vectorize_data(clean_train,clean_test,'onehot')\n",
        "\n",
        "\n",
        "oversample_train.head(10)"
      ],
      "execution_count": 71,
      "outputs": [
        {
          "output_type": "stream",
          "text": [
            "/usr/local/lib/python3.6/dist-packages/sklearn/utils/deprecation.py:87: FutureWarning: Function safe_indexing is deprecated; safe_indexing is deprecated in version 0.22 and will be removed in version 0.24.\n",
            "  warnings.warn(msg, category=FutureWarning)\n"
          ],
          "name": "stderr"
        },
        {
          "output_type": "display_data",
          "data": {
            "image/png": "[encoded data removed]",
            "text/plain": [
              "<Figure size 432x288 with 1 Axes>"
            ]
          },
          "metadata": {
            "tags": [],
            "needs_background": "light"
          }
        },
        {
          "output_type": "execute_result",
          "data": {
            "text/html": [
              "<div>\n",
              "<style scoped>\n",
              "    .dataframe tbody tr th:only-of-type {\n",
              "        vertical-align: middle;\n",
              "    }\n",
              "\n",
              "    .dataframe tbody tr th {\n",
              "        vertical-align: top;\n",
              "    }\n",
              "\n",
              "    .dataframe thead th {\n",
              "        text-align: right;\n",
              "    }\n",
              "</style>\n",
              "<table border=\"1\" class=\"dataframe\">\n",
              "  <thead>\n",
              "    <tr style=\"text-align: right;\">\n",
              "      <th></th>\n",
              "      <th>text</th>\n",
              "      <th>senti</th>\n",
              "    </tr>\n",
              "  </thead>\n",
              "  <tbody>\n",
              "    <tr>\n",
              "      <th>0</th>\n",
              "      <td>Wow, this dress is so incredibly designed and ...</td>\n",
              "      <td>pos</td>\n",
              "    </tr>\n",
              "    <tr>\n",
              "      <th>1</th>\n",
              "      <td>Ugh, i hate that this didn't work! the top sho...</td>\n",
              "      <td>neg</td>\n",
              "    </tr>\n",
              "    <tr>\n",
              "      <th>2</th>\n",
              "      <td>I own another dolan dress which is virtually t...</td>\n",
              "      <td>pos</td>\n",
              "    </tr>\n",
              "    <tr>\n",
              "      <th>3</th>\n",
              "      <td>I waited to review as i ordered both colors an...</td>\n",
              "      <td>pos</td>\n",
              "    </tr>\n",
              "    <tr>\n",
              "      <th>4</th>\n",
              "      <td>I'll admit, i had a lot of sticker shock when ...</td>\n",
              "      <td>pos</td>\n",
              "    </tr>\n",
              "    <tr>\n",
              "      <th>5</th>\n",
              "      <td>This top is true to size and fits perfectly.  ...</td>\n",
              "      <td>pos</td>\n",
              "    </tr>\n",
              "    <tr>\n",
              "      <th>6</th>\n",
              "      <td>Such a lovely shirt and even though it is whit...</td>\n",
              "      <td>pos</td>\n",
              "    </tr>\n",
              "    <tr>\n",
              "      <th>7</th>\n",
              "      <td>Great, lightweight pants for summer!!! size do...</td>\n",
              "      <td>pos</td>\n",
              "    </tr>\n",
              "    <tr>\n",
              "      <th>8</th>\n",
              "      <td>I've been looking at these for some time and i...</td>\n",
              "      <td>pos</td>\n",
              "    </tr>\n",
              "    <tr>\n",
              "      <th>9</th>\n",
              "      <td>Wide fit. usually an 8-10 at retailer. got a l...</td>\n",
              "      <td>pos</td>\n",
              "    </tr>\n",
              "  </tbody>\n",
              "</table>\n",
              "</div>"
            ],
            "text/plain": [
              "                                                text senti\n",
              "0  Wow, this dress is so incredibly designed and ...   pos\n",
              "1  Ugh, i hate that this didn't work! the top sho...   neg\n",
              "2  I own another dolan dress which is virtually t...   pos\n",
              "3  I waited to review as i ordered both colors an...   pos\n",
              "4  I'll admit, i had a lot of sticker shock when ...   pos\n",
              "5  This top is true to size and fits perfectly.  ...   pos\n",
              "6  Such a lovely shirt and even though it is whit...   pos\n",
              "7  Great, lightweight pants for summer!!! size do...   pos\n",
              "8  I've been looking at these for some time and i...   pos\n",
              "9  Wide fit. usually an 8-10 at retailer. got a l...   pos"
            ]
          },
          "metadata": {
            "tags": []
          },
          "execution_count": 71
        }
      ]
    },
    {
      "cell_type": "code",
      "metadata": {
        "id": "DnRC_s1nJrlk",
        "colab_type": "code",
        "outputId": "b1e22824-007e-4d37-cc2a-fb5fd92439f2",
        "colab": {
          "base_uri": "https://localhost:8080/",
          "height": 520
        }
      },
      "source": [
        "#MODELING DATASET :: tf_data \n",
        "test_x, test_y, model =modeling_data(tf_train,train_y, tf_test , test_y,'nb')\n",
        "nb_tf = evaluate(test_x, test_y, model)\n",
        "\n",
        "test_x, test_y, model =modeling_data(tf_train,train_y, tf_test , test_y,'lr')\n",
        "lr_tf = evaluate(test_x, test_y, model)\n",
        "\n",
        "\n",
        "\n",
        "test_x, test_y, model =modeling_data(tf_train,train_y, tf_test , test_y,'svm')\n",
        "svm_tfidf = evaluate(test_x, test_y, model)\n"
      ],
      "execution_count": 72,
      "outputs": [
        {
          "output_type": "stream",
          "text": [
            "              precision    recall  f1-score   support\n",
            "\n",
            "           0       0.77      0.87      0.82       231\n",
            "           1       0.98      0.95      0.96      1260\n",
            "\n",
            "    accuracy                           0.94      1491\n",
            "   macro avg       0.87      0.91      0.89      1491\n",
            "weighted avg       0.94      0.94      0.94      1491\n",
            "\n",
            "              precision    recall  f1-score   support\n",
            "\n",
            "           0       0.42      0.94      0.58       231\n",
            "           1       0.98      0.77      0.86      1260\n",
            "\n",
            "    accuracy                           0.79      1491\n",
            "   macro avg       0.70      0.85      0.72      1491\n",
            "weighted avg       0.90      0.79      0.82      1491\n",
            "\n",
            "              precision    recall  f1-score   support\n",
            "\n",
            "           0       0.39      0.94      0.55       231\n",
            "           1       0.98      0.73      0.84      1260\n",
            "\n",
            "    accuracy                           0.76      1491\n",
            "   macro avg       0.69      0.83      0.69      1491\n",
            "weighted avg       0.89      0.76      0.79      1491\n",
            "\n"
          ],
          "name": "stdout"
        },
        {
          "output_type": "stream",
          "text": [
            "/usr/local/lib/python3.6/dist-packages/sklearn/svm/_base.py:947: ConvergenceWarning: Liblinear failed to converge, increase the number of iterations.\n",
            "  \"the number of iterations.\", ConvergenceWarning)\n"
          ],
          "name": "stderr"
        }
      ]
    },
    {
      "cell_type": "code",
      "metadata": {
        "id": "kXTG3Zd3RnB-",
        "colab_type": "code",
        "outputId": "57d8ab32-a02b-4438-e2d2-db48450a4a33",
        "colab": {
          "base_uri": "https://localhost:8080/",
          "height": 520
        }
      },
      "source": [
        "#MODELING DATASET :: tfidf_data \n",
        "test_x, test_y, model =modeling_data(tfidf_train,train_y, tfidf_test , test_y,'nb')\n",
        "nb_tfidf = evaluate(test_x, test_y, model)\n",
        "\n",
        "test_x, test_y, model =modeling_data(tfidf_train,train_y, tfidf_test , test_y,'lr')\n",
        "lr_tfidf = evaluate(test_x, test_y, model)\n",
        "\n",
        "\n",
        "\n",
        "test_x, test_y, model =modeling_data(tfidf_train,train_y, tfidf_test , test_y,'svm')\n",
        "svm_tfidf = evaluate(test_x, test_y, model)\n",
        "\n"
      ],
      "execution_count": 73,
      "outputs": [
        {
          "output_type": "stream",
          "text": [
            "              precision    recall  f1-score   support\n",
            "\n",
            "           0       0.73      0.89      0.80       231\n",
            "           1       0.98      0.94      0.96      1260\n",
            "\n",
            "    accuracy                           0.93      1491\n",
            "   macro avg       0.86      0.92      0.88      1491\n",
            "weighted avg       0.94      0.93      0.94      1491\n",
            "\n",
            "              precision    recall  f1-score   support\n",
            "\n",
            "           0       0.42      0.91      0.57       231\n",
            "           1       0.98      0.77      0.86      1260\n",
            "\n",
            "    accuracy                           0.79      1491\n",
            "   macro avg       0.70      0.84      0.72      1491\n",
            "weighted avg       0.89      0.79      0.82      1491\n",
            "\n",
            "              precision    recall  f1-score   support\n",
            "\n",
            "           0       0.39      0.91      0.55       231\n",
            "           1       0.98      0.74      0.84      1260\n",
            "\n",
            "    accuracy                           0.77      1491\n",
            "   macro avg       0.68      0.83      0.69      1491\n",
            "weighted avg       0.89      0.77      0.80      1491\n",
            "\n"
          ],
          "name": "stdout"
        },
        {
          "output_type": "stream",
          "text": [
            "/usr/local/lib/python3.6/dist-packages/sklearn/svm/_base.py:947: ConvergenceWarning: Liblinear failed to converge, increase the number of iterations.\n",
            "  \"the number of iterations.\", ConvergenceWarning)\n"
          ],
          "name": "stderr"
        }
      ]
    },
    {
      "cell_type": "code",
      "metadata": {
        "id": "xolkrPRXRoc9",
        "colab_type": "code",
        "outputId": "927446bd-0007-4846-b657-767e04c1a524",
        "colab": {
          "base_uri": "https://localhost:8080/",
          "height": 520
        }
      },
      "source": [
        "#MODELING DATASET :: onehot_data \n",
        "test_x, test_y, model =modeling_data(onehot_train,train_y, onehot_test , test_y ,'nb')\n",
        "nb_onehot = evaluate(test_x, test_y, model)\n",
        "\n",
        "test_x, test_y, model =modeling_data(onehot_train,train_y, onehot_test , test_y ,'lr')\n",
        "lr_onehot = evaluate(test_x, test_y, model)\n",
        "\n",
        "\n",
        "\n",
        "test_x, test_y, model =modeling_data(onehot_train,train_y, onehot_test , test_y,'svm')\n",
        "svm_tfidf = evaluate(test_x, test_y, model)\n"
      ],
      "execution_count": 74,
      "outputs": [
        {
          "output_type": "stream",
          "text": [
            "              precision    recall  f1-score   support\n",
            "\n",
            "           0       0.76      0.88      0.82       231\n",
            "           1       0.98      0.95      0.96      1260\n",
            "\n",
            "    accuracy                           0.94      1491\n",
            "   macro avg       0.87      0.92      0.89      1491\n",
            "weighted avg       0.94      0.94      0.94      1491\n",
            "\n",
            "              precision    recall  f1-score   support\n",
            "\n",
            "           0       0.42      0.91      0.58       231\n",
            "           1       0.98      0.77      0.86      1260\n",
            "\n",
            "    accuracy                           0.79      1491\n",
            "   macro avg       0.70      0.84      0.72      1491\n",
            "weighted avg       0.89      0.79      0.82      1491\n",
            "\n",
            "              precision    recall  f1-score   support\n",
            "\n",
            "           0       0.38      0.92      0.54       231\n",
            "           1       0.98      0.73      0.84      1260\n",
            "\n",
            "    accuracy                           0.76      1491\n",
            "   macro avg       0.68      0.82      0.69      1491\n",
            "weighted avg       0.89      0.76      0.79      1491\n",
            "\n"
          ],
          "name": "stdout"
        },
        {
          "output_type": "stream",
          "text": [
            "/usr/local/lib/python3.6/dist-packages/sklearn/svm/_base.py:947: ConvergenceWarning: Liblinear failed to converge, increase the number of iterations.\n",
            "  \"the number of iterations.\", ConvergenceWarning)\n"
          ],
          "name": "stderr"
        }
      ]
    },
    {
      "cell_type": "code",
      "metadata": {
        "id": "EitQv2vHkUU9",
        "colab_type": "code",
        "outputId": "831836cf-8f80-4c21-83a5-c8b21a7e1174",
        "colab": {
          "base_uri": "https://localhost:8080/",
          "height": 1000
        }
      },
      "source": [
        "\n",
        "#MODELING DATASET :: tf_data - deeplearning \n",
        "\n",
        "deep_learning(tf_train,train_y, tf_test , test_y)\n",
        "\n",
        "#MODELING DATASET :: tfidf_data - deeplearning \n",
        "\n",
        "deep_learning(tfidf_train,train_y, tfidf_test , test_y)\n",
        "\n",
        "#MODELING DATASET :: onehot_data - deeplearning \n",
        "deep_learning(onehot_train,train_y, onehot_test , test_y )\n"
      ],
      "execution_count": 75,
      "outputs": [
        {
          "output_type": "stream",
          "text": [
            "Train on 22558 samples, validate on 22558 samples\n",
            "Epoch 1/5\n",
            "22558/22558 [==============================] - 10s 422us/step - loss: 0.2240 - accuracy: 0.9142 - val_loss: 0.0304 - val_accuracy: 0.9936\n",
            "Epoch 2/5\n",
            "22558/22558 [==============================] - 9s 414us/step - loss: 0.0218 - accuracy: 0.9953 - val_loss: 0.0108 - val_accuracy: 0.9984\n",
            "Epoch 3/5\n",
            "22558/22558 [==============================] - 9s 415us/step - loss: 0.0088 - accuracy: 0.9984 - val_loss: 0.0051 - val_accuracy: 0.9993\n",
            "Epoch 4/5\n",
            "22558/22558 [==============================] - 9s 417us/step - loss: 0.0044 - accuracy: 0.9992 - val_loss: 0.0027 - val_accuracy: 0.9995\n",
            "Epoch 5/5\n",
            "22558/22558 [==============================] - 9s 413us/step - loss: 0.0023 - accuracy: 0.9996 - val_loss: 0.0015 - val_accuracy: 0.9999\n"
          ],
          "name": "stdout"
        },
        {
          "output_type": "display_data",
          "data": {
            "image/png": "[encoded data removed]",
            "text/plain": [
              "<Figure size 432x288 with 1 Axes>"
            ]
          },
          "metadata": {
            "tags": [],
            "needs_background": "light"
          }
        },
        {
          "output_type": "stream",
          "text": [
            "              precision    recall  f1-score   support\n",
            "\n",
            "         0.0       0.53      0.91      0.67       231\n",
            "         1.0       0.98      0.85      0.91      1260\n",
            "\n",
            "    accuracy                           0.86      1491\n",
            "   macro avg       0.76      0.88      0.79      1491\n",
            "weighted avg       0.91      0.86      0.87      1491\n",
            "\n",
            "Train on 22558 samples, validate on 22558 samples\n",
            "Epoch 1/5\n",
            "22558/22558 [==============================] - 9s 412us/step - loss: 0.2485 - accuracy: 0.8920 - val_loss: 0.0249 - val_accuracy: 0.9949\n",
            "Epoch 2/5\n",
            "22558/22558 [==============================] - 9s 400us/step - loss: 0.0187 - accuracy: 0.9957 - val_loss: 0.0072 - val_accuracy: 0.9989\n",
            "Epoch 3/5\n",
            "22558/22558 [==============================] - 9s 412us/step - loss: 0.0059 - accuracy: 0.9990 - val_loss: 0.0030 - val_accuracy: 0.9994\n",
            "Epoch 4/5\n",
            "22558/22558 [==============================] - 9s 408us/step - loss: 0.0026 - accuracy: 0.9995 - val_loss: 0.0015 - val_accuracy: 0.9997\n",
            "Epoch 5/5\n",
            "22558/22558 [==============================] - 9s 409us/step - loss: 0.0013 - accuracy: 0.9999 - val_loss: 8.4177e-04 - val_accuracy: 0.9999\n"
          ],
          "name": "stdout"
        },
        {
          "output_type": "display_data",
          "data": {
            "image/png": "[encoded data removed]",
            "text/plain": [
              "<Figure size 432x288 with 1 Axes>"
            ]
          },
          "metadata": {
            "tags": [],
            "needs_background": "light"
          }
        },
        {
          "output_type": "stream",
          "text": [
            "              precision    recall  f1-score   support\n",
            "\n",
            "         0.0       0.53      0.93      0.68       231\n",
            "         1.0       0.98      0.85      0.91      1260\n",
            "\n",
            "    accuracy                           0.86      1491\n",
            "   macro avg       0.76      0.89      0.80      1491\n",
            "weighted avg       0.91      0.86      0.88      1491\n",
            "\n",
            "Train on 22558 samples, validate on 22558 samples\n",
            "Epoch 1/5\n",
            "22558/22558 [==============================] - 9s 403us/step - loss: 0.2194 - accuracy: 0.9152 - val_loss: 0.0263 - val_accuracy: 0.9946\n",
            "Epoch 2/5\n",
            "22558/22558 [==============================] - 9s 406us/step - loss: 0.0192 - accuracy: 0.9958 - val_loss: 0.0099 - val_accuracy: 0.9990\n",
            "Epoch 3/5\n",
            "22558/22558 [==============================] - 9s 403us/step - loss: 0.0073 - accuracy: 0.9988 - val_loss: 0.0042 - val_accuracy: 0.9994\n",
            "Epoch 4/5\n",
            "22558/22558 [==============================] - 9s 400us/step - loss: 0.0035 - accuracy: 0.9994 - val_loss: 0.0024 - val_accuracy: 0.9995\n",
            "Epoch 5/5\n",
            "22558/22558 [==============================] - 9s 399us/step - loss: 0.0020 - accuracy: 0.9996 - val_loss: 0.0013 - val_accuracy: 0.9997\n"
          ],
          "name": "stdout"
        },
        {
          "output_type": "display_data",
          "data": {
            "image/png": "[encoded data removed]",
            "text/plain": [
              "<Figure size 432x288 with 1 Axes>"
            ]
          },
          "metadata": {
            "tags": [],
            "needs_background": "light"
          }
        },
        {
          "output_type": "stream",
          "text": [
            "              precision    recall  f1-score   support\n",
            "\n",
            "         0.0       0.51      0.94      0.66       231\n",
            "         1.0       0.99      0.83      0.90      1260\n",
            "\n",
            "    accuracy                           0.85      1491\n",
            "   macro avg       0.75      0.89      0.78      1491\n",
            "weighted avg       0.91      0.85      0.86      1491\n",
            "\n"
          ],
          "name": "stdout"
        }
      ]
    },
    {
      "cell_type": "markdown",
      "metadata": {
        "id": "SYVJyBvKSVkL",
        "colab_type": "text"
      },
      "source": [
        "# **OVERSAMPLING:  DATA DUPLICATION**\n",
        "\n",
        "**ML: BEST IS tf/onehot-NB::RESULTING .89**\n",
        "\n",
        "\n",
        "---\n",
        "\n",
        "\n",
        "**DL: BEST IS USING tf/tfidf encoding ::RESULTING .80**\n",
        "\n",
        "\n",
        "BEST IS ORIGINAL DATASET!  \n",
        "\n",
        "oversampled is better than undersampled data \n",
        "\n",
        "STICK TO ORIGINAL DATASET \n"
      ]
    },
    {
      "cell_type": "markdown",
      "metadata": {
        "id": "TlaChRFJlhxi",
        "colab_type": "text"
      },
      "source": [
        "# ***TRY DIFFERENT PREPROCESSING***"
      ]
    },
    {
      "cell_type": "code",
      "metadata": {
        "id": "M6GSB_q0t580",
        "colab_type": "code",
        "colab": {}
      },
      "source": [
        "# #before vectorizing data : preprocess \n",
        "# import nltk\n",
        "# # nltk.download('all')\n",
        "\n",
        "# from nltk import word_tokenize\n",
        "\n",
        "# from nltk.corpus import stopwords\n",
        "\n",
        "# from nltk import PorterStemmer\n",
        "# from nltk import LancasterStemmer\n",
        "# porter = nltk.PorterStemmer()\n",
        "# lancaster = nltk.LancasterStemmer()\n",
        "\n",
        "# from nltk.tokenize.treebank import TreebankWordDetokenizer\n",
        "# tree = TreebankWordDetokenizer()\n",
        "# import re \n",
        "\n",
        "# from nltk.corpus import wordnet\n",
        "\n",
        "# def stem(word):\n",
        "#   reg = r'^(.*?)(ing|ly|ed|ious|ies|ive|es|s|ment)?$'\n",
        "#   stem, suffix = re.findall(reg,word)[0]\n",
        "#   return stem \n",
        "\n",
        "# from nltk import WordNetLemmatizer\n",
        "# wnl = WordNetLemmatizer()\n",
        "\n",
        "# def preprocess_data(df):\n",
        "#   \"\"\"input:: input x dataset ,y dataset (combined dataset __ex: train )\n",
        "\n",
        "#   output:: cleaned x dataset/label combined   \"\"\"\n",
        "\n",
        "#   x,y = split(df)\n",
        "\n",
        "#   newx = []\n",
        "#   for rownum,line in enumerate(x): #string data \n",
        "#     #make string with lower cases \n",
        "#     line = line.strip().lower()\n",
        "#     # print(line)\n",
        "\n",
        "#     #delete seperation in sentence \n",
        "#     line = re.sub(pattern = '\\r*\\n',repl=' ',string = line) \n",
        "#     # print('original: '+ line)\n",
        "\n",
        "#     #delete sentence starting with one word \n",
        "#     line = re.sub(pattern = r'^[a-z]{1}\\s',repl='',string = line)\n",
        "#     # print('1: '+line)\n",
        "\n",
        "#     # #delete info about height , weight , breast size\n",
        "    \n",
        "#     line = re.sub(pattern = r'\\d\\'\\s*\\d*[\\\"\\']*',repl=' ',string = line)  #height \n",
        "#     line = re.sub(pattern = r'[01234567890]+\\s{0,1}lbs{0,1}',repl=' ',string = line)  #weight \n",
        "#     line = re.sub(pattern = r'[01234567890]+\\w', repl='',string =line ) #size\n",
        "#     # print('2: '+line)\n",
        "\n",
        "#     # #delete non-words\n",
        "#     line = re.sub(pattern = r'[\\W]',repl=' ',string = line) \n",
        "#     # print('3: '+line)\n",
        "    \n",
        "#     # #delete numbers : any digit\n",
        "#     line = re.sub(pattern = r'[1234567890]+',repl=' ',string = line)\n",
        "#     # print('4: '+line)\n",
        "    \n",
        "\n",
        "#     # delete one-letter\n",
        "#     line = re.sub(pattern = r'\\b[a-z]\\b',repl=' ',string = line)\n",
        "#     # print('5: '+line)\n",
        "\n",
        "#     # delete two or more blank \n",
        "#     line = re.sub(pattern = r'\\s{2,}',repl=' ',string = line)\n",
        "\n",
        "#     # delete __\n",
        "#     line = re.sub(pattern = r'_{1,}',repl=' ',string = line)\n",
        "#     # print(line)\n",
        "\n",
        "#     #stem words \n",
        "#     tokens = nltk.word_tokenize(line)\n",
        "    \n",
        "#     wordlist =[]\n",
        "#     # repeat_pattern = re.compile(r'(\\w*)(\\w)\\2(\\w*)')\n",
        "#     # match_substitution = r'\\1\\2\\3'\n",
        "#     for word in tokens:\n",
        "#       # print('word before stemmed::  '+word )\n",
        "      \n",
        "#       # word = stem(word)\n",
        "#       # print(word)\n",
        "      \n",
        "#       word = wnl.lemmatize(word, 'v')\n",
        "#       # print('now word is...'+word)\n",
        "#       # word = porter.stem(word)\n",
        "\n",
        "#       # print('word after stemmed::  '+word )\n",
        "#       # word = lancaster.stem(word)\n",
        "#       #remove repeating characters \n",
        "#       # print(word)\n",
        "#       # if not wordnet.synsets(word):\n",
        "#         # word = repeat_pattern.sub(match_substitution, word)\n",
        "\n",
        "#       # print('after repeat ' + word)\n",
        "\n",
        "#       wordlist.append(word)\n",
        "\n",
        "      \n",
        "#     wordlist = set(wordlist) #remove duplicate words\n",
        "#     # print(wordlist)\n",
        "\n",
        "#     line = tree.detokenize(wordlist)\n",
        "#     # print(line)\n",
        "      \n",
        "\n",
        "\n",
        "#     # print('6: '+line)\n",
        "#     newx.append(line)\n",
        "    \n",
        "\n",
        "\n",
        "#   newx = pd.Series(newx) \n",
        "#   df = pd.concat([newx,y], axis =1)\n",
        "#   df.rename(columns = {0: 'text'}, inplace = True)\n",
        "  \n",
        "\n",
        "#   return df #cleaned dataset combined with data,label \n",
        "\n",
        "# #example \n",
        "\n",
        "# clean_train =preprocess_data(train)\n",
        "# clean_test =preprocess_data(test)\n",
        "\n",
        "# #DIFFERENCE IN VECTORIZING DATASET \n",
        "# tf_train,train_y, tf_test , test_y = vectorize_data(clean_train,clean_test,'tf')\n",
        "# tfidf_train,train_y, tfidf_test , test_y = vectorize_data(clean_train,clean_test,'tfidf')\n",
        "# onehot_train,train_y, onehot_test , test_y = vectorize_data(clean_train,clean_test,'onehot')\n",
        "\n",
        "\n",
        "# tf.get_feature_names()"
      ],
      "execution_count": 0,
      "outputs": []
    },
    {
      "cell_type": "code",
      "metadata": {
        "id": "iDNXI7e4houc",
        "colab_type": "code",
        "colab": {}
      },
      "source": [
        "# #MODELING DATASET :: tf_data \n",
        "# test_x, test_y, model =modeling_data(tf_train,train_y, tf_test , test_y,'nb')\n",
        "# nb_tf = evaluate(test_x, test_y, model)\n",
        "\n",
        "# test_x, test_y, model =modeling_data(tfidf_train,train_y, tfidf_test , test_y,'nb')\n",
        "# lr_tf = evaluate(test_x, test_y, model)\n",
        "\n",
        "\n",
        "# test_x, test_y, model =modeling_data(onehot_train,train_y, onehot_test , test_y,'nb')\n",
        "# lr_tf = evaluate(test_x, test_y, model)\n",
        "\n",
        "\n",
        "# # test_x, test_y, model =modeling_data(tf_train,train_y, tf_test , test_y,'svm')\n",
        "# # svm_tf = evaluate(test_x, test_y, model)\n",
        "\n",
        "# # deep_learning(tf_train,train_y, tf_test , test_y)\n"
      ],
      "execution_count": 0,
      "outputs": []
    },
    {
      "cell_type": "markdown",
      "metadata": {
        "id": "Ky6ZLu05lofz",
        "colab_type": "text"
      },
      "source": [
        "Stemming words (Porter):: .90 \n",
        "\n",
        "Stemming words (lancaster):: .90\n",
        "\n",
        "Remove repeating characters :: .89\n",
        "\n",
        "Porter, charcter repeat :: .89\n",
        "\n",
        "lancaster, charcter repeat :: .89\n",
        "\n",
        "stem function:: .89\n",
        "\n",
        "lemmitize:: .90\n",
        "\n",
        "---\n",
        "\n",
        "There is no big difference in stemming, removing the words ; use code as before \n",
        "\n"
      ]
    },
    {
      "cell_type": "markdown",
      "metadata": {
        "id": "jdUE6PKd2kjc",
        "colab_type": "text"
      },
      "source": [
        "# ***TRY DIFFERENT PARAMETERS FOR NB :: CHANGE alpha***"
      ]
    },
    {
      "cell_type": "code",
      "metadata": {
        "id": "oKrYgavg20fh",
        "colab_type": "code",
        "colab": {}
      },
      "source": [
        "# #MODELING FUNCTION\n",
        "# from sklearn.naive_bayes import MultinomialNB\n",
        "# from sklearn.linear_model import LogisticRegression\n",
        "# from sklearn import metrics\n",
        "# from sklearn.preprocessing import StandardScaler\n",
        "# from sklearn.model_selection import train_test_split\n",
        "# from sklearn.model_selection import cross_val_score, cross_val_predict\n",
        "# from sklearn import svm\n",
        "\n",
        "\n",
        "\n",
        "# #example \n",
        "# tfidf_train,train_y, tfidf_test, test_y = vectorize_data(clean_train,clean_test,'tfidf')\n",
        "\n",
        "# def modeling_data(train_x, train_y, test_x, test_y,condition):\n",
        "#   \"\"\"input:: vectorized trainset of x,y, test set of each, condition will be machine learning techniques: naviebaye(nb), logistic regression(lr).. decision tree(dt)...\n",
        "\n",
        "#   output:: f1_score \"\"\"\n",
        "\n",
        "#   #split dataset with validation dataset \n",
        "#   # train_x, val_x, train_y, val_y = train_test_split(train_x, train_y,train_size =.7 , random_state=123)\n",
        "#   # print(train_x.shape)\n",
        "#   # print(val_x.shape)\n",
        "#   # print(train_y.shape)\n",
        "#   # print(val_y.shape)\n",
        "\n",
        "#   label_train = label_encoding(train_y) #1,0 presentation \n",
        "#   # label_train = label_encoding(val_y)  \n",
        "#   label_test = label_encoding(test_y)\n",
        "\n",
        "#   if condition == 'nb': #not need to be scaled \n",
        "#     clt = MultinomialNB(alpha= .35 ) #alpha: laplace smoothing \n",
        "#     clt.fit(train_x,label_train)\n",
        "#     # print(cross_val_score(clt, train_x, train_y, cv=5).mean() )\n",
        "#     # pred = clt.predict(test_x)\n",
        "#     # f1 = metrics.f1_score(test_y,pred,average='macro') \n",
        "#     # print(classification_report(test_y, predictions))\n",
        "\n",
        "#     return test_x, label_test , clt \n",
        "\n",
        "    \n",
        "\n",
        "#   elif condition == 'lr': #lr needs to be scaled \n",
        "    \n",
        "#     scaler = StandardScaler()\n",
        "#     train_x = scaler.fit_transform(train_x)\n",
        "#     test_x =scaler.fit_transform(test_x)\n",
        "\n",
        "#     lr = LogisticRegression(max_iter=15000 )\n",
        "#     lr.fit(train_x,label_train)\n",
        "#     # pred = lr.predict(test_x)\n",
        "#     # f1 = metrics.f1_score(label_test,pred,average='macro') \n",
        "#     # print(classification_report(test_y, predictions))\n",
        "#     return test_x, label_test , lr #use labeled dataset \n",
        " \n",
        "#   #too much process needed ;; \n",
        "\n",
        "#   elif condition == 'svm': #needs to be scaled\n",
        "#     scaler = StandardScaler() \n",
        "#     train_x = scaler.fit_transform(train_x)\n",
        "#     test_x =scaler.fit_transform(test_x)\n",
        "\n",
        "#     clf = svm.SVC()\n",
        "#     clf.fit(train_x, label_train) #label train contains 0,1 \n",
        "#     # pred = clf.predict(test_x)\n",
        "#     # f1 = metrics.f1_score(label_test,pred,average='macro') \n",
        "#     # print(classification_report(test_y, predictions))\n",
        "\n",
        "#     return test_x, label_test , clf\n",
        "\n",
        "\n",
        "\n",
        "\n",
        "# #usage example \n",
        "\n",
        "# # print(modeling_data(tfidf_train,train_y, tfidf_test, test_y,'nb'))\n"
      ],
      "execution_count": 0,
      "outputs": []
    },
    {
      "cell_type": "code",
      "metadata": {
        "id": "7ceNvMJg25Rh",
        "colab_type": "code",
        "colab": {}
      },
      "source": [
        "# #example \n",
        "\n",
        "# clean_train =preprocess_data(train)\n",
        "# clean_test =preprocess_data(test)\n",
        "\n",
        "# #DIFFERENCE IN VECTORIZING DATASET \n",
        "# tf_train,train_y, tf_test , test_y = vectorize_data(clean_train,clean_test,'tf')\n",
        "# tfidf_train,train_y, tfidf_test , test_y = vectorize_data(clean_train,clean_test,'tfidf')\n",
        "# onehot_train,train_y, onehot_test , test_y = vectorize_data(clean_train,clean_test,'onehot')\n",
        "\n",
        "# #MODELING DATASET :: tf_data \n",
        "# test_x, test_y, model =modeling_data(tf_train,train_y, tf_test , test_y,'nb')\n",
        "# nb_tf = evaluate(test_x, test_y, model)\n",
        "\n",
        "# test_x, test_y, model =modeling_data(tfidf_train,train_y, tfidf_test , test_y,'nb')\n",
        "# lr_tf = evaluate(test_x, test_y, model)\n",
        "\n",
        "\n",
        "# test_x, test_y, model =modeling_data(onehot_train,train_y, onehot_test , test_y,'nb')\n",
        "# lr_tf = evaluate(test_x, test_y, model)\n",
        "# #\n",
        "\n",
        "# # test_x, test_y, model =modeling_data(tf_train,train_y, tf_test , test_y,'svm')\n",
        "# # svm_tf = evaluate(test_x, test_y, model)\n",
        "\n",
        "# # deep_learning(onehot_train,train_y, onehot_test , test_y )\n"
      ],
      "execution_count": 0,
      "outputs": []
    },
    {
      "cell_type": "markdown",
      "metadata": {
        "id": "61PP6DTO6c6T",
        "colab_type": "text"
      },
      "source": [
        "alpha change::  better as lower :: .35-> .91"
      ]
    },
    {
      "cell_type": "markdown",
      "metadata": {
        "id": "fgTBpN7L71RW",
        "colab_type": "text"
      },
      "source": [
        "# ***TRY DIFFERENT PARAMETERS FOR DL :: CHANGE layer, optimizer***"
      ]
    },
    {
      "cell_type": "code",
      "metadata": {
        "id": "gr-ii2hb6NRj",
        "colab_type": "code",
        "colab": {}
      },
      "source": [
        "# #USE DEEPLEARNING \n",
        "# # !pip install keras\n",
        "# from sklearn.metrics import classification_report\n",
        "\n",
        "# #since binary classification last node needs to be sigmoid \n",
        "# from keras import models\n",
        "# from keras import layers\n",
        "\n",
        "# def deep_learning(train_x,train_y, test_x, test_y):\n",
        "\n",
        "#   label_train = label_encoding(train_y) #1,0 presentation \n",
        "#   label_test = label_encoding(test_y)\n",
        "#   label_train = np.asarray(label_train).astype('float32')\n",
        "#   label_test = np.asarray(label_test).astype('float32')\n",
        "\n",
        "#   #scale dataset \n",
        "#   scaler = StandardScaler()\n",
        "#   train_x = scaler.fit_transform(train_x)\n",
        "#   test_x =scaler.fit_transform(test_x)\n",
        "\n",
        "\n",
        "#   num = int(train_x.shape[0])\n",
        "#   x_val = train_x[-num:]\n",
        "#   y_val = label_train[-num:]\n",
        "#   x_train = train_x[:-num]\n",
        "#   y_train = label_train[:-num]\n",
        "\n",
        "#   # opt = ['adadelta','adam', 'rmsprop', 'adagrad']\n",
        "  \n",
        "#   # for opt in opt: \n",
        "#   #   model = models.Sequential()\n",
        "  \n",
        "#   #   model.add(layers.Dense(500, activation = 'relu', input_shape = (train_x.shape[1],))) #input layer :needs specific input_shape \n",
        "#   #   model.add(layers.Dense(100,activation='relu')) #hidden layer using relu \n",
        "#   #   model.add(layers.Dense(10,activation='relu')) #hidden layer using relu \n",
        "#   #   model.add(layers.Dense(1,activation = 'sigmoid')) #output layer(binary  1): using sigmoid 0 or 1 \n",
        "\n",
        "  \n",
        "#   #   model.compile(optimizer = opt, loss= 'binary_crossentropy', metrics =['accuracy'])\n",
        "\n",
        "#   #   history = model.fit(train_x, label_train, epochs=15, batch_size= 512, validation_data=(x_val, y_val) )\n",
        "\n",
        "#   # for batch in [64,128,512]:\n",
        "#   #   model = models.Sequential()\n",
        "  \n",
        "#   #   model.add(layers.Dense(500, activation = 'relu', input_shape = (train_x.shape[1],))) #input layer :needs specific input_shape \n",
        "#   #   model.add(layers.Dense(100,activation='relu')) #hidden layer using relu \n",
        "#   #   model.add(layers.Dense(10,activation='relu')) #hidden layer using relu \n",
        "#   #   model.add(layers.Dense(1,activation = 'sigmoid')) #output layer(binary  1): using sigmoid 0 or 1 \n",
        "#   #   model.compile(optimizer = 'adadelta', loss= 'binary_crossentropy', metrics =['accuracy'])\n",
        "#   #   history = model.fit(train_x, label_train, epochs=15, batch_size= batch, validation_data=(x_val, y_val) )\n",
        "\n",
        "\n",
        "#   for epoch in [5,10,15,20]:\n",
        "#     model = models.Sequential()\n",
        "  \n",
        "#     model.add(layers.Dense(500, activation = 'relu', input_shape = (train_x.shape[1],))) #input layer :needs specific input_shape \n",
        "#     model.add(layers.Dense(100,activation='relu')) #hidden layer using relu \n",
        "#     model.add(layers.Dense(10,activation='relu')) #hidden layer using relu \n",
        "#     model.add(layers.Dense(1,activation = 'sigmoid')) #output layer(binary  1): using sigmoid 0 or 1 \n",
        "#     model.compile(optimizer = 'adadelta', loss= 'binary_crossentropy', metrics =['accuracy'])\n",
        "#     history = model.fit(train_x, label_train, epochs=epoch, batch_size= 128, validation_data=(x_val, y_val) )\n",
        "\n",
        "\n",
        "\n",
        "\n",
        "#   # history_dict = history.history\n",
        "#   # history_dict.keys()\n",
        "#   # acc= history.history['accuracy']\n",
        "#   # val_acc = history.history['val_accuracy']\n",
        "#   # loss = history.history['loss']\n",
        "#   # val_loss = history.history['val_loss']\n",
        "#   # epochs = range(1,len(acc)+1)\n",
        "#   # plt.plot(epochs, acc, 'r', label = 'Training accuracy')\n",
        "#   # plt.plot(epochs, val_acc, 'b', label = 'Validation accuracy')\n",
        "#   # plt.title('Training and validation accuracy')\n",
        "#   # plt.xlabel('Epochs')\n",
        "#   # plt.ylabel('Accuracy')\n",
        "#   # plt.legend()\n",
        "\n",
        "#   # plt.show()\n",
        "\n",
        "\n",
        "#     prediction_y = model.predict_classes(test_x, verbose= 0) \n",
        "#   #  print(prediction_y)\n",
        "#   #   print('the optimizer is..' +str(opt))\n",
        "#     # print('the batch is..' + str(batch))\n",
        "#     print('the epoch is..' + str(epoch))\n",
        "#     print(classification_report(label_test, prediction_y)) \n",
        "\n",
        "\n",
        "#   # return classification_report(label_test, prediction_y)\n",
        "\n",
        "# #example :: \n",
        "# deep_learning(onehot_train,train_y, onehot_test , test_y )"
      ],
      "execution_count": 0,
      "outputs": []
    },
    {
      "cell_type": "markdown",
      "metadata": {
        "id": "7GtXMqnT_OoG",
        "colab_type": "text"
      },
      "source": [
        "before 'adam' :: .83 -> change of optimizer to adadelta .87\n",
        "\n",
        "before 'batch_size :512 -> 512 is best ::same .87   \n",
        "\n",
        "before epoch :: 15 .87 -> 5 is .88"
      ]
    },
    {
      "cell_type": "code",
      "metadata": {
        "id": "y2C425hmS8AB",
        "colab_type": "code",
        "colab": {}
      },
      "source": [
        "\n",
        "# #MODELING FUNCTION\n",
        "# from sklearn.naive_bayes import MultinomialNB\n",
        "# from sklearn.linear_model import LogisticRegression\n",
        "# from sklearn import metrics\n",
        "# from sklearn.preprocessing import StandardScaler\n",
        "# from sklearn.model_selection import train_test_split\n",
        "# from sklearn.model_selection import cross_val_score, cross_val_predict\n",
        "# from sklearn.svm import LinearSVC\n",
        "\n",
        "\n",
        "\n",
        "# #example \n",
        "# # tfidf_train,train_y, tfidf_test, test_y = vectorize_data(clean_train,clean_test,'tfidf')\n",
        "\n",
        "# def modeling_data(train_x, train_y, test_x, test_y,condition):\n",
        "#   \"\"\"input:: vectorized trainset of x,y, test set of each, condition will be machine learning techniques: naviebaye(nb), logistic regression(lr).. decision tree(dt)...\n",
        "\n",
        "#   output:: f1_score \"\"\"\n",
        "\n",
        "#   #split dataset with validation dataset \n",
        "#   # train_x, val_x, train_y, val_y = train_test_split(train_x, train_y,train_size =.7 , random_state=123)\n",
        "#   # print(train_x.shape)\n",
        "#   # print(val_x.shape)\n",
        "#   # print(train_y.shape)\n",
        "#   # print(val_y.shape)\n",
        "\n",
        "#   label_train = label_encoding(train_y) #1,0 presentation \n",
        "#   # label_train = label_encoding(val_y)  \n",
        "#   label_test = label_encoding(test_y)\n",
        "\n",
        "#   if condition == 'nb': #not need to be scaled \n",
        "#     clt = MultinomialNB( alpha = .35)\n",
        "#     clt.fit(train_x,label_train)\n",
        "#     # print(cross_val_score(clt, train_x, train_y, cv=5).mean() )\n",
        "#     # pred = clt.predict(test_x)\n",
        "#     # f1 = metrics.f1_score(test_y,pred,average='macro') \n",
        "#     # print(classification_report(test_y, predictions))\n",
        "\n",
        "#     return test_x, label_test , clt \n",
        "\n",
        "    \n",
        "\n",
        "#   elif condition == 'lr': #lr needs to be scaled \n",
        "    \n",
        "#     scaler = StandardScaler()\n",
        "#     train_x = scaler.fit_transform(train_x)\n",
        "#     test_x =scaler.fit_transform(test_x)\n",
        "\n",
        "#     lr = LogisticRegression(max_iter=15000 )\n",
        "#     lr.fit(train_x,label_train)\n",
        "#     # pred = lr.predict(test_x)\n",
        "#     # f1 = metrics.f1_score(label_test,pred,average='macro') \n",
        "#     # print(classification_report(test_y, predictions))\n",
        "#     return test_x, label_test , lr #use labeled dataset \n",
        " \n",
        "#   #too much process needed ;; \n",
        "\n",
        "  \n",
        "\n",
        "#   elif condition == 'svm': #needs to be scaled\n",
        "    \n",
        "#     scaler = StandardScaler() \n",
        "#     train_x = scaler.fit_transform(train_x)\n",
        "#     test_x =scaler.fit_transform(test_x)\n",
        "#     C = [0.01, 0.1,1,10]\n",
        "#     for c in C:\n",
        "#       print('----------------------------')\n",
        "#       clf = LinearSVC(C=c)\n",
        "#       clf.fit(train_x, label_train) #label train contains 0,1 \n",
        "#       predictions = clf.predict(test_x)\n",
        "#     # f1 = metrics.f1_score(label_test,pred,average='macro') \n",
        "#       print('C is...' +str(c))\n",
        "#       print(classification_report(label_test, predictions))\n",
        "      \n",
        "\n",
        "\n",
        "#     return test_x, label_test , clf\n",
        "\n",
        "\n",
        "\n",
        "\n",
        "# #usage example \n",
        "\n",
        "# print(modeling_data(tfidf_train,train_y, tfidf_test, test_y,'nb'))\n"
      ],
      "execution_count": 0,
      "outputs": []
    },
    {
      "cell_type": "code",
      "metadata": {
        "id": "ZagUL9mbP4-G",
        "colab_type": "code",
        "colab": {
          "base_uri": "https://localhost:8080/",
          "height": 173
        },
        "outputId": "f92dad66-70a1-4d81-d5e6-2c14dbddc9f6"
      },
      "source": [
        "#no preprocessing \n",
        "#example \n",
        "\n",
        "clean_train =train\n",
        "clean_test =test\n",
        "\n",
        "#DIFFERENCE IN VECTORIZING DATASET \n",
        "tf_train,train_y, tf_test , test_y = vectorize_data(clean_train,clean_test,'tf')\n",
        "tfidf_train,train_y, tfidf_test , test_y = vectorize_data(clean_train,clean_test,'tfidf')\n",
        "onehot_train,train_y, onehot_test , test_y = vectorize_data(clean_train,clean_test,'onehot')\n",
        "\n",
        "# MODELING DATASET :: tf_data \n",
        "test_x, test_y, model =modeling_data(tf_train,train_y, tf_test , test_y,'nb')\n",
        "nb_tf = evaluate(test_x, test_y, model)\n",
        "\n",
        "# test_x, test_y, model =modeling_data(tfidf_train,train_y, tfidf_test , test_y,'nb')\n",
        "# lr_tf = evaluate(test_x, test_y, model)\n",
        "\n",
        "\n",
        "# test_x, test_y, model =modeling_data(onehot_train,train_y, onehot_test , test_y,'nb')\n",
        "# lr_tf = evaluate(test_x, test_y, model)\n",
        "\n",
        "# \n",
        "# test_x, test_y, model =modeling_data(tf_train,train_y, tf_test , test_y,'svm')\n",
        "# svm_tf = evaluate(test_x, test_y, model)\n",
        "#\n",
        "# deep_learning(onehot_train,train_y, onehot_test , test_y )\n"
      ],
      "execution_count": 78,
      "outputs": [
        {
          "output_type": "stream",
          "text": [
            "              precision    recall  f1-score   support\n",
            "\n",
            "           0       0.84      0.84      0.84       231\n",
            "           1       0.97      0.97      0.97      1260\n",
            "\n",
            "    accuracy                           0.95      1491\n",
            "   macro avg       0.90      0.90      0.90      1491\n",
            "weighted avg       0.95      0.95      0.95      1491\n",
            "\n"
          ],
          "name": "stdout"
        }
      ]
    },
    {
      "cell_type": "markdown",
      "metadata": {
        "id": "XMHnJHXaEsV-",
        "colab_type": "text"
      },
      "source": [
        "**ML ; NAIVE BAYES : BEST .91**\n",
        "\n",
        "DEEP LEARNING : BEST .88 \n"
      ]
    }
  ]
}