{
  "nbformat": 4,
  "nbformat_minor": 0,
  "metadata": {
    "colab": {
      "name": "Weekly6-2016312411 JaeyoungChoi.ipynb",
      "provenance": [],
      "collapsed_sections": [],
      "machine_shape": "hm"
    },
    "kernelspec": {
      "name": "python3",
      "display_name": "Python 3"
    }
  },
  "cells": [
    {
      "cell_type": "markdown",
      "metadata": {
        "id": "OAHp9edOJPg8",
        "colab_type": "text"
      },
      "source": [
        "***최종 수치: 0.856***"
      ]
    },
    {
      "cell_type": "markdown",
      "metadata": {
        "id": "5AWr44s6XJvs",
        "colab_type": "text"
      },
      "source": [
        "**0. Getting Ready**"
      ]
    },
    {
      "cell_type": "code",
      "metadata": {
        "id": "ypbiePWkWX4m",
        "colab_type": "code",
        "colab": {}
      },
      "source": [
        "from keras.datasets import imdb\n",
        "import numpy as np\n",
        "from keras import models\n",
        "from keras import layers\n",
        "#selecting top-1000 words in thet train,test data \n",
        "(train_data, train_labels), (test_data, test_labels) = imdb.load_data(num_words= 10000)"
      ],
      "execution_count": 0,
      "outputs": []
    },
    {
      "cell_type": "code",
      "metadata": {
        "id": "cKZe6gtAYW46",
        "colab_type": "code",
        "outputId": "9252d711-077c-4345-a1fb-162ab65eab26",
        "colab": {
          "base_uri": "https://localhost:8080/",
          "height": 34
        }
      },
      "source": [
        "train_data[0][:10] #represents each review as a list of word indices \n"
      ],
      "execution_count": 69,
      "outputs": [
        {
          "output_type": "execute_result",
          "data": {
            "text/plain": [
              "[1, 14, 22, 16, 43, 530, 973, 1622, 1385, 65]"
            ]
          },
          "metadata": {
            "tags": []
          },
          "execution_count": 69
        }
      ]
    },
    {
      "cell_type": "markdown",
      "metadata": {
        "id": "NMfGKe7_WxbO",
        "colab_type": "text"
      },
      "source": [
        "**1. Using one-hot encoding**"
      ]
    },
    {
      "cell_type": "code",
      "metadata": {
        "id": "Xt3aGVTjWh3z",
        "colab_type": "code",
        "colab": {}
      },
      "source": [
        "#one-hot encoding function define \n",
        "def vectorize_sequences(seq, dimension = 10000):\n",
        "  results = np.zeros((len(seq), dimension)) #create a np array of (length of sequence, dimension of 10000)\n",
        "  for i, sequence in enumerate(seq):\n",
        "    \n",
        "    results[i,sequence] = 1 \n",
        "    \n",
        "    \n",
        "  return results "
      ],
      "execution_count": 0,
      "outputs": []
    },
    {
      "cell_type": "code",
      "metadata": {
        "id": "gn57PmVTXuAA",
        "colab_type": "code",
        "outputId": "fcdd88d7-a8d4-4f4d-b7f1-5eef4756231a",
        "colab": {
          "base_uri": "https://localhost:8080/",
          "height": 34
        }
      },
      "source": [
        "#encode train/test data into one-hot encoding shape \n",
        "x_train =vectorize_sequences(train_data)\n",
        "x_test = vectorize_sequences(test_data)\n",
        "\n",
        "x_test[0]"
      ],
      "execution_count": 71,
      "outputs": [
        {
          "output_type": "execute_result",
          "data": {
            "text/plain": [
              "array([0., 1., 1., ..., 0., 0., 0.])"
            ]
          },
          "metadata": {
            "tags": []
          },
          "execution_count": 71
        }
      ]
    },
    {
      "cell_type": "code",
      "metadata": {
        "id": "yyA24mkxXok3",
        "colab_type": "code",
        "outputId": "d7004c2e-c534-463b-e74d-96889e4a3a9d",
        "colab": {
          "base_uri": "https://localhost:8080/",
          "height": 34
        }
      },
      "source": [
        "#change train/test y labels to 0,1 \n",
        "y_train = np.asarray(train_labels).astype('float32')\n",
        "y_test = np.asarray(test_labels).astype('float32')\n",
        "\n",
        "y_test[:5] #0 is negative "
      ],
      "execution_count": 72,
      "outputs": [
        {
          "output_type": "execute_result",
          "data": {
            "text/plain": [
              "array([0., 1., 1., 0., 1.], dtype=float32)"
            ]
          },
          "metadata": {
            "tags": []
          },
          "execution_count": 72
        }
      ]
    },
    {
      "cell_type": "code",
      "metadata": {
        "id": "e9ZxeYsWXfEO",
        "colab_type": "code",
        "outputId": "b3e66619-e358-49a2-b4b3-053d2a0a2b1c",
        "colab": {
          "base_uri": "https://localhost:8080/",
          "height": 714
        }
      },
      "source": [
        "model = models.Sequential()\n",
        "\n",
        "model.add(layers.Dense(16, activation = 'relu', input_shape = (10000,))) #input layer :needs specific input_shape \n",
        "model.add(layers.Dense(16,activation='relu')) #hidden layer using relu \n",
        "model.add(layers.Dense(1,activation = 'sigmoid')) #output layer: using sigmoid \n",
        "\n",
        "model.compile(optimizer = 'rmsprop', loss= 'binary_crossentropy', metrics =['accuracy']) \n",
        "\n",
        "\n",
        "#dividing the train data into validation sets\n",
        "x_val= x_train[:10000]\n",
        "partial_x_train = x_train[10000:]\n",
        "y_val= y_train[:10000]\n",
        "partial_y_train= y_train[10000:]\n",
        "\n",
        "history= model.fit(partial_x_train, partial_y_train, epochs=20, batch_size= 512, validation_data = (x_val, y_val))\n",
        "#train with partial data of train, validate with the validtaion data "
      ],
      "execution_count": 73,
      "outputs": [
        {
          "output_type": "stream",
          "text": [
            "Train on 15000 samples, validate on 10000 samples\n",
            "Epoch 1/20\n",
            "15000/15000 [==============================] - 2s 139us/step - loss: 0.5041 - accuracy: 0.7953 - val_loss: 0.3835 - val_accuracy: 0.8638\n",
            "Epoch 2/20\n",
            "15000/15000 [==============================] - 2s 127us/step - loss: 0.3014 - accuracy: 0.9049 - val_loss: 0.3020 - val_accuracy: 0.8870\n",
            "Epoch 3/20\n",
            "15000/15000 [==============================] - 2s 124us/step - loss: 0.2223 - accuracy: 0.9253 - val_loss: 0.2753 - val_accuracy: 0.8914\n",
            "Epoch 4/20\n",
            "15000/15000 [==============================] - 2s 125us/step - loss: 0.1675 - accuracy: 0.9451 - val_loss: 0.2755 - val_accuracy: 0.8889\n",
            "Epoch 5/20\n",
            "15000/15000 [==============================] - 2s 123us/step - loss: 0.1371 - accuracy: 0.9557 - val_loss: 0.2853 - val_accuracy: 0.8881\n",
            "Epoch 6/20\n",
            "15000/15000 [==============================] - 2s 124us/step - loss: 0.1141 - accuracy: 0.9648 - val_loss: 0.3038 - val_accuracy: 0.8844\n",
            "Epoch 7/20\n",
            "15000/15000 [==============================] - 2s 125us/step - loss: 0.0909 - accuracy: 0.9723 - val_loss: 0.3198 - val_accuracy: 0.8830\n",
            "Epoch 8/20\n",
            "15000/15000 [==============================] - 2s 126us/step - loss: 0.0810 - accuracy: 0.9763 - val_loss: 0.3529 - val_accuracy: 0.8759\n",
            "Epoch 9/20\n",
            "15000/15000 [==============================] - 2s 126us/step - loss: 0.0640 - accuracy: 0.9830 - val_loss: 0.3630 - val_accuracy: 0.8811\n",
            "Epoch 10/20\n",
            "15000/15000 [==============================] - 2s 126us/step - loss: 0.0566 - accuracy: 0.9841 - val_loss: 0.3878 - val_accuracy: 0.8759\n",
            "Epoch 11/20\n",
            "15000/15000 [==============================] - 2s 125us/step - loss: 0.0460 - accuracy: 0.9887 - val_loss: 0.4295 - val_accuracy: 0.8693\n",
            "Epoch 12/20\n",
            "15000/15000 [==============================] - 2s 124us/step - loss: 0.0385 - accuracy: 0.9905 - val_loss: 0.4434 - val_accuracy: 0.8730\n",
            "Epoch 13/20\n",
            "15000/15000 [==============================] - 2s 124us/step - loss: 0.0302 - accuracy: 0.9939 - val_loss: 0.4927 - val_accuracy: 0.8731\n",
            "Epoch 14/20\n",
            "15000/15000 [==============================] - 2s 124us/step - loss: 0.0249 - accuracy: 0.9957 - val_loss: 0.5103 - val_accuracy: 0.8724\n",
            "Epoch 15/20\n",
            "15000/15000 [==============================] - 2s 124us/step - loss: 0.0217 - accuracy: 0.9961 - val_loss: 0.5728 - val_accuracy: 0.8683\n",
            "Epoch 16/20\n",
            "15000/15000 [==============================] - 2s 122us/step - loss: 0.0160 - accuracy: 0.9976 - val_loss: 0.5695 - val_accuracy: 0.8703\n",
            "Epoch 17/20\n",
            "15000/15000 [==============================] - 2s 121us/step - loss: 0.0134 - accuracy: 0.9983 - val_loss: 0.6016 - val_accuracy: 0.8655\n",
            "Epoch 18/20\n",
            "15000/15000 [==============================] - 2s 120us/step - loss: 0.0120 - accuracy: 0.9982 - val_loss: 0.6479 - val_accuracy: 0.8672\n",
            "Epoch 19/20\n",
            "15000/15000 [==============================] - 2s 121us/step - loss: 0.0062 - accuracy: 0.9997 - val_loss: 0.6912 - val_accuracy: 0.8597\n",
            "Epoch 20/20\n",
            "15000/15000 [==============================] - 2s 121us/step - loss: 0.0079 - accuracy: 0.9990 - val_loss: 0.7197 - val_accuracy: 0.8656\n"
          ],
          "name": "stdout"
        }
      ]
    },
    {
      "cell_type": "code",
      "metadata": {
        "id": "k4lE-a-iXc7L",
        "colab_type": "code",
        "outputId": "832bc92b-cb17-4193-e60a-ef3fc7c24dc4",
        "colab": {
          "base_uri": "https://localhost:8080/",
          "height": 51
        }
      },
      "source": [
        "results = model.evaluate(x_test, y_test)\n",
        "print(results) #accuracy: 0.84"
      ],
      "execution_count": 74,
      "outputs": [
        {
          "output_type": "stream",
          "text": [
            "25000/25000 [==============================] - 2s 64us/step\n",
            "[0.7850500724077225, 0.8503199815750122]\n"
          ],
          "name": "stdout"
        }
      ]
    },
    {
      "cell_type": "code",
      "metadata": {
        "id": "Vd4LmNKIdPl0",
        "colab_type": "code",
        "outputId": "7a374a84-fadc-4aaf-9128-fa0ed6f091c9",
        "colab": {
          "base_uri": "https://localhost:8080/",
          "height": 34
        }
      },
      "source": [
        "#visualization\n",
        "history_dict = history.history\n",
        "history_dict.keys()"
      ],
      "execution_count": 75,
      "outputs": [
        {
          "output_type": "execute_result",
          "data": {
            "text/plain": [
              "dict_keys(['val_loss', 'val_accuracy', 'loss', 'accuracy'])"
            ]
          },
          "metadata": {
            "tags": []
          },
          "execution_count": 75
        }
      ]
    },
    {
      "cell_type": "code",
      "metadata": {
        "id": "yaz7SpaMdVmj",
        "colab_type": "code",
        "colab": {}
      },
      "source": [
        "import matplotlib.pyplot as plt\n",
        "%matplotlib inline\n",
        "acc= history.history['accuracy']\n",
        "val_acc = history.history['val_accuracy']\n",
        "loss = history.history['loss']\n",
        "val_loss = history.history['val_loss']\n",
        "epochs = range(1,len(acc)+1)"
      ],
      "execution_count": 0,
      "outputs": []
    },
    {
      "cell_type": "code",
      "metadata": {
        "id": "By1-u4AEdumi",
        "colab_type": "code",
        "outputId": "fba20ccb-1223-4446-b36c-b36776c6670b",
        "colab": {
          "base_uri": "https://localhost:8080/",
          "height": 295
        }
      },
      "source": [
        "plt.plot(epochs,loss,'bo', label = 'Training loss')\n",
        "plt.plot(epochs, val_loss,'b',label = 'Validation loss')\n",
        "plt.title('Training and Validation Loss')\n",
        "plt.xlabel('Epochs')\n",
        "plt.ylabel('Loss')\n",
        "plt.legend()\n",
        "plt.show() #shows that overfitting is occuring around epochs of 5"
      ],
      "execution_count": 77,
      "outputs": [
        {
          "output_type": "display_data",
          "data": {
            "image/png": "[encoded data removed]",
            "text/plain": [
              "<Figure size 432x288 with 1 Axes>"
            ]
          },
          "metadata": {
            "tags": [],
            "needs_background": "light"
          }
        }
      ]
    },
    {
      "cell_type": "markdown",
      "metadata": {
        "id": "yciG9CE9JBf9",
        "colab_type": "text"
      },
      "source": [
        "**2. Using tf-idf**"
      ]
    },
    {
      "cell_type": "code",
      "metadata": {
        "id": "HPqA_uvVghjq",
        "colab_type": "code",
        "colab": {}
      },
      "source": [
        "from sklearn.feature_extraction.text import TfidfVectorizer\n",
        "\n",
        "tfidf = TfidfVectorizer(lowercase=False, token_pattern=r'\\S+')\n",
        "\n"
      ],
      "execution_count": 0,
      "outputs": []
    },
    {
      "cell_type": "code",
      "metadata": {
        "id": "CLBvAvkfLQ_w",
        "colab_type": "code",
        "colab": {}
      },
      "source": [
        "train_word_data = []\n",
        "\n",
        "for lists in train_data:\n",
        "\n",
        "  temp_sentence = \"\"\n",
        "  for element in lists:\n",
        "\n",
        "    temp_sentence += str(element) + \" \"\n",
        "\n",
        "  train_word_data.append(temp_sentence)\n",
        "\n",
        "train_word_data[0]#make the data as a word (by strings) and append in each list \n",
        "#now is a list of strings \n",
        "\n",
        "test_word_data = []\n",
        "\n",
        "for lists in test_data:\n",
        "\n",
        "  temp_sentence = \"\"\n",
        "  for element in lists:\n",
        "\n",
        "    temp_sentence += str(element) + \" \"\n",
        "\n",
        "  test_word_data.append(temp_sentence)\n"
      ],
      "execution_count": 0,
      "outputs": []
    },
    {
      "cell_type": "code",
      "metadata": {
        "id": "JvG_yhTZRXzP",
        "colab_type": "code",
        "outputId": "be573be1-74e2-450a-8566-5ff85482aab4",
        "colab": {
          "base_uri": "https://localhost:8080/",
          "height": 34
        }
      },
      "source": [
        "len(train_word_data) \n",
        "len(train_data) #both list of 25000"
      ],
      "execution_count": 80,
      "outputs": [
        {
          "output_type": "execute_result",
          "data": {
            "text/plain": [
              "25000"
            ]
          },
          "metadata": {
            "tags": []
          },
          "execution_count": 80
        }
      ]
    },
    {
      "cell_type": "code",
      "metadata": {
        "id": "wNOLZtT9OmT4",
        "colab_type": "code",
        "colab": {}
      },
      "source": [
        "#use the vectorizer -use train data for the vectorizer data \n",
        "train_vector_tfidf = tfidf.fit_transform(train_word_data) #the train data is list in lists (each list has words inside)\n",
        "# tfidf.vocabulary_#we now can see the vocabulary (don't know which word is which index but know the occurence of the word in the train data )"
      ],
      "execution_count": 0,
      "outputs": []
    },
    {
      "cell_type": "code",
      "metadata": {
        "id": "uBn5gXSnYO9i",
        "colab_type": "code",
        "colab": {}
      },
      "source": [
        "#transform with the test data \n",
        "test_vector_tfidf = tfidf.transform(test_word_data)"
      ],
      "execution_count": 0,
      "outputs": []
    },
    {
      "cell_type": "code",
      "metadata": {
        "id": "gKOGqeMLUGRk",
        "colab_type": "code",
        "colab": {}
      },
      "source": [
        "#both labels has 25000 labels and the tdidf transformed data has 25000 each too \n",
        "train_labels.shape\n",
        "test_labels.shape\n",
        "test_vector_tfidf.shape #has 9998 words \n",
        "\n",
        "#now we have the train/test data in arrays ; fit to model \n",
        "tfidf_test_data = test_vector_tfidf.toarray() \n",
        "tfidf_train_data = train_vector_tfidf.toarray()\n"
      ],
      "execution_count": 0,
      "outputs": []
    },
    {
      "cell_type": "code",
      "metadata": {
        "id": "S-k0OfdPWmi6",
        "colab_type": "code",
        "colab": {
          "base_uri": "https://localhost:8080/",
          "height": 748
        },
        "outputId": "a4064e62-9eae-4e74-fd11-594c8faca826"
      },
      "source": [
        "#fit the model \n",
        "model = models.Sequential()\n",
        "\n",
        "model.add(layers.Dense(16, activation = 'relu', input_shape = (9998,))) #input layer :needs specific input_shape \n",
        "model.add(layers.Dense(16,activation='relu')) #hidden layer using relu \n",
        "model.add(layers.Dense(1,activation = 'sigmoid')) #output layer: using sigmoid \n",
        "\n",
        "model.compile(optimizer = 'rmsprop', loss= 'binary_crossentropy', metrics =['accuracy']) \n",
        "\n",
        "\n",
        "#dividing the train data into validation sets\n",
        "x_val_tfidf= tfidf_train_data[:10000] #word by word tfidf score is now the elements of the dataset \n",
        "partial_x_train = tfidf_train_data[10000:]\n",
        "y_val= y_train[:10000]\n",
        "partial_y_train= y_train[10000:]\n",
        "\n",
        "history= model.fit(partial_x_train, partial_y_train, epochs=20, batch_size= 512, validation_data = (x_val_tfidf, y_val))\n",
        "#train with partial data of train, validate with the validtaion data \n",
        "results2 = model.evaluate(tfidf_test_data, y_test)\n",
        "print(results2) #get the accuracy using tfidf "
      ],
      "execution_count": 84,
      "outputs": [
        {
          "output_type": "stream",
          "text": [
            "Train on 15000 samples, validate on 10000 samples\n",
            "Epoch 1/20\n",
            "15000/15000 [==============================] - 2s 119us/step - loss: 0.6466 - accuracy: 0.7829 - val_loss: 0.5951 - val_accuracy: 0.8488\n",
            "Epoch 2/20\n",
            "15000/15000 [==============================] - 2s 110us/step - loss: 0.5378 - accuracy: 0.8826 - val_loss: 0.4993 - val_accuracy: 0.8680\n",
            "Epoch 3/20\n",
            "15000/15000 [==============================] - 2s 109us/step - loss: 0.4327 - accuracy: 0.8993 - val_loss: 0.4129 - val_accuracy: 0.8760\n",
            "Epoch 4/20\n",
            "15000/15000 [==============================] - 2s 109us/step - loss: 0.3421 - accuracy: 0.9108 - val_loss: 0.3484 - val_accuracy: 0.8855\n",
            "Epoch 5/20\n",
            "15000/15000 [==============================] - 2s 107us/step - loss: 0.2738 - accuracy: 0.9230 - val_loss: 0.3050 - val_accuracy: 0.8883\n",
            "Epoch 6/20\n",
            "15000/15000 [==============================] - 2s 111us/step - loss: 0.2256 - accuracy: 0.9347 - val_loss: 0.2808 - val_accuracy: 0.8943\n",
            "Epoch 7/20\n",
            "15000/15000 [==============================] - 2s 110us/step - loss: 0.1904 - accuracy: 0.9441 - val_loss: 0.2653 - val_accuracy: 0.8956\n",
            "Epoch 8/20\n",
            "15000/15000 [==============================] - 2s 124us/step - loss: 0.1628 - accuracy: 0.9505 - val_loss: 0.2601 - val_accuracy: 0.8928\n",
            "Epoch 9/20\n",
            "15000/15000 [==============================] - 2s 133us/step - loss: 0.1402 - accuracy: 0.9583 - val_loss: 0.2570 - val_accuracy: 0.8953\n",
            "Epoch 10/20\n",
            "15000/15000 [==============================] - 2s 107us/step - loss: 0.1217 - accuracy: 0.9635 - val_loss: 0.2602 - val_accuracy: 0.8947\n",
            "Epoch 11/20\n",
            "15000/15000 [==============================] - 2s 105us/step - loss: 0.1055 - accuracy: 0.9689 - val_loss: 0.2674 - val_accuracy: 0.8932\n",
            "Epoch 12/20\n",
            "15000/15000 [==============================] - 2s 105us/step - loss: 0.0918 - accuracy: 0.9744 - val_loss: 0.2766 - val_accuracy: 0.8904\n",
            "Epoch 13/20\n",
            "15000/15000 [==============================] - 2s 103us/step - loss: 0.0796 - accuracy: 0.9787 - val_loss: 0.2886 - val_accuracy: 0.8896\n",
            "Epoch 14/20\n",
            "15000/15000 [==============================] - 2s 104us/step - loss: 0.0691 - accuracy: 0.9832 - val_loss: 0.3027 - val_accuracy: 0.8867\n",
            "Epoch 15/20\n",
            "15000/15000 [==============================] - 2s 104us/step - loss: 0.0595 - accuracy: 0.9864 - val_loss: 0.3231 - val_accuracy: 0.8837\n",
            "Epoch 16/20\n",
            "15000/15000 [==============================] - 2s 105us/step - loss: 0.0515 - accuracy: 0.9894 - val_loss: 0.3333 - val_accuracy: 0.8821\n",
            "Epoch 17/20\n",
            "15000/15000 [==============================] - 2s 105us/step - loss: 0.0437 - accuracy: 0.9917 - val_loss: 0.3517 - val_accuracy: 0.8791\n",
            "Epoch 18/20\n",
            "15000/15000 [==============================] - 2s 102us/step - loss: 0.0371 - accuracy: 0.9940 - val_loss: 0.3718 - val_accuracy: 0.8779\n",
            "Epoch 19/20\n",
            "15000/15000 [==============================] - 2s 101us/step - loss: 0.0309 - accuracy: 0.9953 - val_loss: 0.3941 - val_accuracy: 0.8736\n",
            "Epoch 20/20\n",
            "15000/15000 [==============================] - 2s 102us/step - loss: 0.0258 - accuracy: 0.9965 - val_loss: 0.4232 - val_accuracy: 0.8721\n",
            "25000/25000 [==============================] - 1s 59us/step\n",
            "[0.48253993038654325, 0.8533999919891357]\n"
          ],
          "name": "stdout"
        }
      ]
    },
    {
      "cell_type": "code",
      "metadata": {
        "id": "sFpmKe4rYC9B",
        "colab_type": "code",
        "colab": {
          "base_uri": "https://localhost:8080/",
          "height": 295
        },
        "outputId": "d000f047-d8c2-4112-b84b-6c596037ce18"
      },
      "source": [
        "#visualization\n",
        "history_dict = history.history\n",
        "history_dict.keys()\n",
        "acc= history.history['accuracy']\n",
        "val_acc = history.history['val_accuracy']\n",
        "loss = history.history['loss']\n",
        "val_loss = history.history['val_loss']\n",
        "epochs = range(1,len(acc)+1)\n",
        "plt.plot(epochs,loss,'bo', label = 'Training loss')\n",
        "plt.plot(epochs, val_loss,'b',label = 'Validation loss')\n",
        "plt.title('Training and Validation Loss')\n",
        "plt.xlabel('Epochs')\n",
        "plt.ylabel('Loss')\n",
        "\n",
        "plt.legend()\n",
        "plt.show() "
      ],
      "execution_count": 85,
      "outputs": [
        {
          "output_type": "display_data",
          "data": {
            "image/png": "[encoded data removed]",
            "text/plain": [
              "<Figure size 432x288 with 1 Axes>"
            ]
          },
          "metadata": {
            "tags": [],
            "needs_background": "light"
          }
        }
      ]
    },
    {
      "cell_type": "code",
      "metadata": {
        "id": "heWL89YWtdC6",
        "colab_type": "code",
        "colab": {
          "base_uri": "https://localhost:8080/",
          "height": 68
        },
        "outputId": "d79c6f66-834e-479b-a981-f363e0c8127c"
      },
      "source": [
        "#results from one-hot encoding and tfidf \n",
        "print('The result from one-hot encoding is...  ' + str(results[1]))\n",
        "print('The result from tfidf is...  ' +str(results2[1]))\n",
        "print('The result has enhanced by 0.01')"
      ],
      "execution_count": 86,
      "outputs": [
        {
          "output_type": "stream",
          "text": [
            "The result from one-hot encoding is...  0.8503199815750122\n",
            "The result from tfidf is...  0.8533999919891357\n",
            "The result has enhanced by 0.01\n"
          ],
          "name": "stdout"
        }
      ]
    },
    {
      "cell_type": "markdown",
      "metadata": {
        "id": "zKtUdrx0t2I7",
        "colab_type": "text"
      },
      "source": [
        "**3. Using different hidden layer number: adding one more layer, different units of layers**\n",
        "\n",
        "\n"
      ]
    },
    {
      "cell_type": "code",
      "metadata": {
        "id": "0zfRU03MtuMP",
        "colab_type": "code",
        "colab": {
          "base_uri": "https://localhost:8080/",
          "height": 748
        },
        "outputId": "92330849-f178-45d9-cc53-9ee8eb7447c1"
      },
      "source": [
        "#fit the model \n",
        "model = models.Sequential()\n",
        "\n",
        "model.add(layers.Dense(64, activation = 'relu', input_shape = (9998,)))\n",
        "model.add(layers.Dense(16,activation='relu')) #hidden layer using relu \n",
        "model.add(layers.Dense(8, activation='relu'))\n",
        "model.add(layers.Dense(1,activation = 'sigmoid')) #output layer: using sigmoid since we are finding whether pos,neg\n",
        "\n",
        "model.compile(optimizer = 'rmsprop', loss= 'binary_crossentropy', metrics =['accuracy']) \n",
        "\n",
        "\n",
        "#dividing the train data into validation sets\n",
        "x_val_tfidf= tfidf_train_data[:10000] #word by word tfidf score is now the elements of the dataset \n",
        "partial_x_train = tfidf_train_data[10000:]\n",
        "y_val= y_train[:10000]\n",
        "partial_y_train= y_train[10000:]\n",
        "\n",
        "history= model.fit(partial_x_train, partial_y_train, epochs=20, batch_size= 512, validation_data = (x_val_tfidf, y_val))\n",
        "#train with partial data of train, validate with the validtaion data \n",
        "results3 = model.evaluate(tfidf_test_data, y_test)\n",
        "print(results3) #get the accuracy using tfidf "
      ],
      "execution_count": 87,
      "outputs": [
        {
          "output_type": "stream",
          "text": [
            "Train on 15000 samples, validate on 10000 samples\n",
            "Epoch 1/20\n",
            "15000/15000 [==============================] - 2s 132us/step - loss: 0.6329 - accuracy: 0.8045 - val_loss: 0.5509 - val_accuracy: 0.8709\n",
            "Epoch 2/20\n",
            "15000/15000 [==============================] - 2s 125us/step - loss: 0.4577 - accuracy: 0.9007 - val_loss: 0.4036 - val_accuracy: 0.8776\n",
            "Epoch 3/20\n",
            "15000/15000 [==============================] - 2s 125us/step - loss: 0.3098 - accuracy: 0.9189 - val_loss: 0.3087 - val_accuracy: 0.8943\n",
            "Epoch 4/20\n",
            "15000/15000 [==============================] - 2s 124us/step - loss: 0.2179 - accuracy: 0.9368 - val_loss: 0.2685 - val_accuracy: 0.8965\n",
            "Epoch 5/20\n",
            "15000/15000 [==============================] - 2s 125us/step - loss: 0.1656 - accuracy: 0.9502 - val_loss: 0.2577 - val_accuracy: 0.8947\n",
            "Epoch 6/20\n",
            "15000/15000 [==============================] - 2s 125us/step - loss: 0.1280 - accuracy: 0.9610 - val_loss: 0.2648 - val_accuracy: 0.8922\n",
            "Epoch 7/20\n",
            "15000/15000 [==============================] - 2s 125us/step - loss: 0.1019 - accuracy: 0.9700 - val_loss: 0.2849 - val_accuracy: 0.8859\n",
            "Epoch 8/20\n",
            "15000/15000 [==============================] - 2s 124us/step - loss: 0.0811 - accuracy: 0.9773 - val_loss: 0.2985 - val_accuracy: 0.8843\n",
            "Epoch 9/20\n",
            "15000/15000 [==============================] - 2s 125us/step - loss: 0.0627 - accuracy: 0.9859 - val_loss: 0.3285 - val_accuracy: 0.8808\n",
            "Epoch 10/20\n",
            "15000/15000 [==============================] - 2s 125us/step - loss: 0.0475 - accuracy: 0.9905 - val_loss: 0.3710 - val_accuracy: 0.8707\n",
            "Epoch 11/20\n",
            "15000/15000 [==============================] - 2s 125us/step - loss: 0.0375 - accuracy: 0.9931 - val_loss: 0.3806 - val_accuracy: 0.8740\n",
            "Epoch 12/20\n",
            "15000/15000 [==============================] - 2s 126us/step - loss: 0.0270 - accuracy: 0.9958 - val_loss: 0.4220 - val_accuracy: 0.8699\n",
            "Epoch 13/20\n",
            "15000/15000 [==============================] - 2s 125us/step - loss: 0.0196 - accuracy: 0.9975 - val_loss: 0.4566 - val_accuracy: 0.8699\n",
            "Epoch 14/20\n",
            "15000/15000 [==============================] - 2s 125us/step - loss: 0.0142 - accuracy: 0.9981 - val_loss: 0.4954 - val_accuracy: 0.8654\n",
            "Epoch 15/20\n",
            "15000/15000 [==============================] - 2s 125us/step - loss: 0.0095 - accuracy: 0.9991 - val_loss: 0.5290 - val_accuracy: 0.8651\n",
            "Epoch 16/20\n",
            "15000/15000 [==============================] - 2s 126us/step - loss: 0.0064 - accuracy: 0.9994 - val_loss: 0.5865 - val_accuracy: 0.8616\n",
            "Epoch 17/20\n",
            "15000/15000 [==============================] - 2s 126us/step - loss: 0.0040 - accuracy: 0.9996 - val_loss: 0.6424 - val_accuracy: 0.8576\n",
            "Epoch 18/20\n",
            "15000/15000 [==============================] - 2s 125us/step - loss: 0.0032 - accuracy: 0.9997 - val_loss: 0.6583 - val_accuracy: 0.8602\n",
            "Epoch 19/20\n",
            "15000/15000 [==============================] - 2s 125us/step - loss: 0.0014 - accuracy: 0.9999 - val_loss: 0.6912 - val_accuracy: 0.8603\n",
            "Epoch 20/20\n",
            "15000/15000 [==============================] - 2s 125us/step - loss: 0.0013 - accuracy: 0.9999 - val_loss: 0.7387 - val_accuracy: 0.8592\n",
            "25000/25000 [==============================] - 2s 74us/step\n",
            "[0.8750188508510589, 0.8389999866485596]\n"
          ],
          "name": "stdout"
        }
      ]
    },
    {
      "cell_type": "code",
      "metadata": {
        "id": "yCuW6a58uZbS",
        "colab_type": "code",
        "colab": {
          "base_uri": "https://localhost:8080/",
          "height": 295
        },
        "outputId": "a5cc2bfa-768f-49e9-c5ed-5fdb4e61a886"
      },
      "source": [
        "#visualization of the results above \n",
        "history_dict = history.history\n",
        "history_dict.keys()\n",
        "acc= history.history['accuracy']\n",
        "val_acc = history.history['val_accuracy']\n",
        "loss = history.history['loss']\n",
        "val_loss = history.history['val_loss']\n",
        "epochs = range(1,len(acc)+1)\n",
        "plt.plot(epochs,loss,'bo', label = 'Training loss')\n",
        "plt.plot(epochs, val_loss,'b',label = 'Validation loss')\n",
        "plt.title('Training and Validation Loss')\n",
        "plt.xlabel('Epochs')\n",
        "plt.ylabel('Loss')\n",
        "\n",
        "plt.legend()\n",
        "plt.show() "
      ],
      "execution_count": 88,
      "outputs": [
        {
          "output_type": "display_data",
          "data": {
            "image/png": "[encoded data removed]",
            "text/plain": [
              "<Figure size 432x288 with 1 Axes>"
            ]
          },
          "metadata": {
            "tags": [],
            "needs_background": "light"
          }
        }
      ]
    },
    {
      "cell_type": "code",
      "metadata": {
        "id": "MTYQoUh_voJY",
        "colab_type": "code",
        "colab": {
          "base_uri": "https://localhost:8080/",
          "height": 68
        },
        "outputId": "4fa7cff9-7d7f-481e-8dfe-8a3221642713"
      },
      "source": [
        "#results from one-hot encoding and tfidf and difference in layers \n",
        "print('The result from one-hot encoding is...  ' + str(results[1]))\n",
        "print('The result from tfidf is...  ' +str(results2[1]))\n",
        "print('The result from difference in layers is..' + str(results3[1]))"
      ],
      "execution_count": 89,
      "outputs": [
        {
          "output_type": "stream",
          "text": [
            "The result from one-hot encoding is...  0.8503199815750122\n",
            "The result from tfidf is...  0.8533999919891357\n",
            "The result from difference in layers is..0.8389999866485596\n"
          ],
          "name": "stdout"
        }
      ]
    },
    {
      "cell_type": "markdown",
      "metadata": {
        "id": "PjJKUnyQvmCZ",
        "colab_type": "text"
      },
      "source": [
        "**4. Using tanh activation**"
      ]
    },
    {
      "cell_type": "code",
      "metadata": {
        "id": "kfSBdYA5v-7g",
        "colab_type": "code",
        "colab": {
          "base_uri": "https://localhost:8080/",
          "height": 748
        },
        "outputId": "82cb103e-fca9-4533-b3e1-8d7672e6b114"
      },
      "source": [
        "#fit the model \n",
        "model = models.Sequential()\n",
        "\n",
        "model.add(layers.Dense(16, activation = 'tanh', input_shape = (9998,))) #input layer :needs specific input_shape \n",
        "model.add(layers.Dense(16,activation='relu')) #hidden layer using relu \n",
        "model.add(layers.Dense(1,activation = 'sigmoid')) #output layer: using sigmoid \n",
        "\n",
        "model.compile(optimizer = 'rmsprop', loss= 'binary_crossentropy', metrics =['accuracy']) \n",
        "\n",
        "\n",
        "#dividing the train data into validation sets\n",
        "x_val_tfidf= tfidf_train_data[:10000] #word by word tfidf score is now the elements of the dataset \n",
        "partial_x_train = tfidf_train_data[10000:]\n",
        "y_val= y_train[:10000]\n",
        "partial_y_train= y_train[10000:]\n",
        "\n",
        "history= model.fit(partial_x_train, partial_y_train, epochs=20, batch_size= 512, validation_data = (x_val_tfidf, y_val))\n",
        "#train with partial data of train, validate with the validtaion data \n",
        "results4 = model.evaluate(tfidf_test_data, y_test)\n",
        "print(results4) #get the accuracy using tfidf "
      ],
      "execution_count": 90,
      "outputs": [
        {
          "output_type": "stream",
          "text": [
            "Train on 15000 samples, validate on 10000 samples\n",
            "Epoch 1/20\n",
            "15000/15000 [==============================] - 2s 107us/step - loss: 0.6479 - accuracy: 0.7607 - val_loss: 0.6017 - val_accuracy: 0.8341\n",
            "Epoch 2/20\n",
            "15000/15000 [==============================] - 2s 101us/step - loss: 0.5427 - accuracy: 0.8652 - val_loss: 0.5060 - val_accuracy: 0.8569\n",
            "Epoch 3/20\n",
            "15000/15000 [==============================] - 2s 102us/step - loss: 0.4399 - accuracy: 0.8897 - val_loss: 0.4208 - val_accuracy: 0.8699\n",
            "Epoch 4/20\n",
            "15000/15000 [==============================] - 2s 102us/step - loss: 0.3519 - accuracy: 0.9030 - val_loss: 0.3585 - val_accuracy: 0.8744\n",
            "Epoch 5/20\n",
            "15000/15000 [==============================] - 2s 102us/step - loss: 0.2850 - accuracy: 0.9155 - val_loss: 0.3114 - val_accuracy: 0.8877\n",
            "Epoch 6/20\n",
            "15000/15000 [==============================] - 2s 102us/step - loss: 0.2346 - accuracy: 0.9281 - val_loss: 0.2832 - val_accuracy: 0.8925\n",
            "Epoch 7/20\n",
            "15000/15000 [==============================] - 2s 101us/step - loss: 0.1966 - accuracy: 0.9386 - val_loss: 0.2667 - val_accuracy: 0.8942\n",
            "Epoch 8/20\n",
            "15000/15000 [==============================] - 2s 101us/step - loss: 0.1670 - accuracy: 0.9471 - val_loss: 0.2606 - val_accuracy: 0.8921\n",
            "Epoch 9/20\n",
            "15000/15000 [==============================] - 2s 102us/step - loss: 0.1445 - accuracy: 0.9533 - val_loss: 0.2578 - val_accuracy: 0.8934\n",
            "Epoch 10/20\n",
            "15000/15000 [==============================] - 2s 102us/step - loss: 0.1251 - accuracy: 0.9600 - val_loss: 0.2602 - val_accuracy: 0.8940\n",
            "Epoch 11/20\n",
            "15000/15000 [==============================] - 2s 101us/step - loss: 0.1084 - accuracy: 0.9659 - val_loss: 0.2693 - val_accuracy: 0.8935\n",
            "Epoch 12/20\n",
            "15000/15000 [==============================] - 2s 102us/step - loss: 0.0941 - accuracy: 0.9715 - val_loss: 0.2835 - val_accuracy: 0.8874\n",
            "Epoch 13/20\n",
            "15000/15000 [==============================] - 2s 101us/step - loss: 0.0809 - accuracy: 0.9764 - val_loss: 0.2917 - val_accuracy: 0.8891\n",
            "Epoch 14/20\n",
            "15000/15000 [==============================] - 2s 102us/step - loss: 0.0695 - accuracy: 0.9805 - val_loss: 0.3080 - val_accuracy: 0.8868\n",
            "Epoch 15/20\n",
            "15000/15000 [==============================] - 2s 102us/step - loss: 0.0585 - accuracy: 0.9852 - val_loss: 0.3293 - val_accuracy: 0.8827\n",
            "Epoch 16/20\n",
            "15000/15000 [==============================] - 2s 102us/step - loss: 0.0494 - accuracy: 0.9887 - val_loss: 0.3525 - val_accuracy: 0.8786\n",
            "Epoch 17/20\n",
            "15000/15000 [==============================] - 2s 102us/step - loss: 0.0405 - accuracy: 0.9917 - val_loss: 0.3723 - val_accuracy: 0.8791\n",
            "Epoch 18/20\n",
            "15000/15000 [==============================] - 2s 101us/step - loss: 0.0330 - accuracy: 0.9935 - val_loss: 0.4000 - val_accuracy: 0.8750\n",
            "Epoch 19/20\n",
            "15000/15000 [==============================] - 2s 101us/step - loss: 0.0266 - accuracy: 0.9960 - val_loss: 0.4273 - val_accuracy: 0.8737\n",
            "Epoch 20/20\n",
            "15000/15000 [==============================] - 2s 102us/step - loss: 0.0210 - accuracy: 0.9966 - val_loss: 0.4545 - val_accuracy: 0.8716\n",
            "25000/25000 [==============================] - 1s 59us/step\n",
            "[0.5301467311573028, 0.8523200154304504]\n"
          ],
          "name": "stdout"
        }
      ]
    },
    {
      "cell_type": "code",
      "metadata": {
        "id": "a-4MIZWEwLoN",
        "colab_type": "code",
        "colab": {
          "base_uri": "https://localhost:8080/",
          "height": 85
        },
        "outputId": "2982ead9-3b52-4447-bf94-7e1244cacaff"
      },
      "source": [
        "#results from one-hot encoding and tfidf and difference in layers \n",
        "print('The result from one-hot encoding is...  ' + str(results[1]))\n",
        "print('The result from tfidf is...  ' +str(results2[1]))\n",
        "print('The result from difference in layers is..' + str(results3[1]))\n",
        "print('The result from difference in activation function is..' + str(results4[1]))"
      ],
      "execution_count": 91,
      "outputs": [
        {
          "output_type": "stream",
          "text": [
            "The result from one-hot encoding is...  0.8503199815750122\n",
            "The result from tfidf is...  0.8533999919891357\n",
            "The result from difference in layers is..0.8389999866485596\n",
            "The result from difference in activation function is..0.8523200154304504\n"
          ],
          "name": "stdout"
        }
      ]
    },
    {
      "cell_type": "markdown",
      "metadata": {
        "id": "mWWajC2myRi9",
        "colab_type": "text"
      },
      "source": [
        "**5. Using mse loss function**"
      ]
    },
    {
      "cell_type": "code",
      "metadata": {
        "id": "Ww32c_okyQUS",
        "colab_type": "code",
        "colab": {
          "base_uri": "https://localhost:8080/",
          "height": 748
        },
        "outputId": "0b9b696d-1abe-43ce-dbef-ff48d715393e"
      },
      "source": [
        "#fit the model \n",
        "model = models.Sequential()\n",
        "\n",
        "model.add(layers.Dense(16, activation = 'tanh', input_shape = (9998,))) #input layer :needs specific input_shape \n",
        "model.add(layers.Dense(16,activation='relu')) #hidden layer using relu \n",
        "model.add(layers.Dense(1,activation = 'sigmoid')) #output layer: using sigmoid \n",
        "\n",
        "model.compile(optimizer = 'rmsprop', loss= 'mse', metrics =['accuracy']) \n",
        "\n",
        "\n",
        "#dividing the train data into validation sets\n",
        "x_val_tfidf= tfidf_train_data[:10000] #word by word tfidf score is now the elements of the dataset \n",
        "partial_x_train = tfidf_train_data[10000:]\n",
        "y_val= y_train[:10000]\n",
        "partial_y_train= y_train[10000:]\n",
        "\n",
        "history= model.fit(partial_x_train, partial_y_train, epochs=20, batch_size= 512, validation_data = (x_val_tfidf, y_val))\n",
        "#train with partial data of train, validate with the validtaion data \n",
        "results5 = model.evaluate(tfidf_test_data, y_test)\n",
        "print(results5) #get the accuracy using tfidf "
      ],
      "execution_count": 92,
      "outputs": [
        {
          "output_type": "stream",
          "text": [
            "Train on 15000 samples, validate on 10000 samples\n",
            "Epoch 1/20\n",
            "15000/15000 [==============================] - 2s 106us/step - loss: 0.2302 - accuracy: 0.7896 - val_loss: 0.2100 - val_accuracy: 0.8131\n",
            "Epoch 2/20\n",
            "15000/15000 [==============================] - 2s 101us/step - loss: 0.1862 - accuracy: 0.8690 - val_loss: 0.1708 - val_accuracy: 0.8586\n",
            "Epoch 3/20\n",
            "15000/15000 [==============================] - 1s 100us/step - loss: 0.1449 - accuracy: 0.8887 - val_loss: 0.1379 - val_accuracy: 0.8712\n",
            "Epoch 4/20\n",
            "15000/15000 [==============================] - 2s 101us/step - loss: 0.1112 - accuracy: 0.9036 - val_loss: 0.1135 - val_accuracy: 0.8806\n",
            "Epoch 5/20\n",
            "15000/15000 [==============================] - 2s 101us/step - loss: 0.0875 - accuracy: 0.9169 - val_loss: 0.0981 - val_accuracy: 0.8895\n",
            "Epoch 6/20\n",
            "15000/15000 [==============================] - 2s 101us/step - loss: 0.0706 - accuracy: 0.9300 - val_loss: 0.0882 - val_accuracy: 0.8935\n",
            "Epoch 7/20\n",
            "15000/15000 [==============================] - 2s 100us/step - loss: 0.0585 - accuracy: 0.9406 - val_loss: 0.0835 - val_accuracy: 0.8930\n",
            "Epoch 8/20\n",
            "15000/15000 [==============================] - 2s 100us/step - loss: 0.0494 - accuracy: 0.9491 - val_loss: 0.0809 - val_accuracy: 0.8929\n",
            "Epoch 9/20\n",
            "15000/15000 [==============================] - 2s 100us/step - loss: 0.0420 - accuracy: 0.9575 - val_loss: 0.0790 - val_accuracy: 0.8943\n",
            "Epoch 10/20\n",
            "15000/15000 [==============================] - 2s 101us/step - loss: 0.0360 - accuracy: 0.9631 - val_loss: 0.0784 - val_accuracy: 0.8940\n",
            "Epoch 11/20\n",
            "15000/15000 [==============================] - 2s 101us/step - loss: 0.0307 - accuracy: 0.9692 - val_loss: 0.0786 - val_accuracy: 0.8943\n",
            "Epoch 12/20\n",
            "15000/15000 [==============================] - 2s 102us/step - loss: 0.0262 - accuracy: 0.9745 - val_loss: 0.0810 - val_accuracy: 0.8903\n",
            "Epoch 13/20\n",
            "15000/15000 [==============================] - 2s 101us/step - loss: 0.0221 - accuracy: 0.9794 - val_loss: 0.0819 - val_accuracy: 0.8890\n",
            "Epoch 14/20\n",
            "15000/15000 [==============================] - 2s 101us/step - loss: 0.0186 - accuracy: 0.9830 - val_loss: 0.0843 - val_accuracy: 0.8875\n",
            "Epoch 15/20\n",
            "15000/15000 [==============================] - 2s 102us/step - loss: 0.0155 - accuracy: 0.9867 - val_loss: 0.0873 - val_accuracy: 0.8834\n",
            "Epoch 16/20\n",
            "15000/15000 [==============================] - 2s 101us/step - loss: 0.0130 - accuracy: 0.9897 - val_loss: 0.0883 - val_accuracy: 0.8826\n",
            "Epoch 17/20\n",
            "15000/15000 [==============================] - 2s 102us/step - loss: 0.0108 - accuracy: 0.9919 - val_loss: 0.0909 - val_accuracy: 0.8800\n",
            "Epoch 18/20\n",
            "15000/15000 [==============================] - 2s 101us/step - loss: 0.0089 - accuracy: 0.9934 - val_loss: 0.0931 - val_accuracy: 0.8780\n",
            "Epoch 19/20\n",
            "15000/15000 [==============================] - 2s 102us/step - loss: 0.0074 - accuracy: 0.9945 - val_loss: 0.0961 - val_accuracy: 0.8762\n",
            "Epoch 20/20\n",
            "15000/15000 [==============================] - 2s 102us/step - loss: 0.0062 - accuracy: 0.9951 - val_loss: 0.0980 - val_accuracy: 0.8743\n",
            "25000/25000 [==============================] - 1s 57us/step\n",
            "[0.11351381702303887, 0.856440007686615]\n"
          ],
          "name": "stdout"
        }
      ]
    },
    {
      "cell_type": "code",
      "metadata": {
        "id": "cFUhSRubylLg",
        "colab_type": "code",
        "colab": {
          "base_uri": "https://localhost:8080/",
          "height": 102
        },
        "outputId": "73ad9459-2112-4568-fe4c-e30a9beefe04"
      },
      "source": [
        "#results from one-hot encoding and tfidf and difference in layers \n",
        "print('The result from one-hot encoding is...  ' + str(results[1]))\n",
        "print('The result from tfidf is...  ' +str(results2[1]))\n",
        "print('The result from difference in layers is..' + str(results3[1]))\n",
        "print('The result from difference in activation function is..' + str(results4[1]))\n",
        "print('The result from difference in loss function is..' + str(results5[1]))"
      ],
      "execution_count": 93,
      "outputs": [
        {
          "output_type": "stream",
          "text": [
            "The result from one-hot encoding is...  0.8503199815750122\n",
            "The result from tfidf is...  0.8533999919891357\n",
            "The result from difference in layers is..0.8389999866485596\n",
            "The result from difference in activation function is..0.8523200154304504\n",
            "The result from difference in loss function is..0.856440007686615\n"
          ],
          "name": "stdout"
        }
      ]
    },
    {
      "cell_type": "code",
      "metadata": {
        "id": "Ziod8ZwFywtZ",
        "colab_type": "code",
        "colab": {
          "base_uri": "https://localhost:8080/",
          "height": 1000
        },
        "outputId": "7425f562-026c-4808-9246-ce55856311bc"
      },
      "source": [
        "#fit the model \n",
        "model = models.Sequential()\n",
        "\n",
        "model.add(layers.Dense(16, activation = 'tanh', input_shape = (9998,))) #input layer :needs specific input_shape \n",
        "model.add(layers.Dense(16,activation='relu')) #hidden layer using relu \n",
        "model.add(layers.Dense(1,activation = 'sigmoid')) #output layer: using sigmoid \n",
        "\n",
        "model.compile(optimizer = 'rmsprop', loss= 'binary_crossentropy', metrics =['accuracy']) \n",
        "\n",
        "\n",
        "#dividing the train data into validation sets\n",
        "x_val_tfidf= tfidf_train_data[:10000] #word by word tfidf score is now the elements of the dataset \n",
        "partial_x_train = tfidf_train_data[10000:]\n",
        "y_val= y_train[:10000]\n",
        "partial_y_train= y_train[10000:]\n",
        "\n",
        "history= model.fit(partial_x_train, partial_y_train, epochs=30, batch_size= 512, validation_data = (x_val_tfidf, y_val))\n",
        "#train with partial data of train, validate with the validtaion data \n",
        "results6 = model.evaluate(tfidf_test_data, y_test)\n",
        "print(results6) #get the accuracy using tfidf "
      ],
      "execution_count": 94,
      "outputs": [
        {
          "output_type": "stream",
          "text": [
            "Train on 15000 samples, validate on 10000 samples\n",
            "Epoch 1/30\n",
            "15000/15000 [==============================] - 2s 107us/step - loss: 0.6397 - accuracy: 0.7659 - val_loss: 0.5836 - val_accuracy: 0.8322\n",
            "Epoch 2/30\n",
            "15000/15000 [==============================] - 2s 101us/step - loss: 0.5175 - accuracy: 0.8679 - val_loss: 0.4776 - val_accuracy: 0.8574\n",
            "Epoch 3/30\n",
            "15000/15000 [==============================] - 2s 101us/step - loss: 0.4077 - accuracy: 0.8901 - val_loss: 0.3943 - val_accuracy: 0.8697\n",
            "Epoch 4/30\n",
            "15000/15000 [==============================] - 1s 100us/step - loss: 0.3221 - accuracy: 0.9082 - val_loss: 0.3345 - val_accuracy: 0.8799\n",
            "Epoch 5/30\n",
            "15000/15000 [==============================] - 1s 100us/step - loss: 0.2596 - accuracy: 0.9216 - val_loss: 0.2961 - val_accuracy: 0.8905\n",
            "Epoch 6/30\n",
            "15000/15000 [==============================] - 2s 102us/step - loss: 0.2142 - accuracy: 0.9327 - val_loss: 0.2754 - val_accuracy: 0.8886\n",
            "Epoch 7/30\n",
            "15000/15000 [==============================] - 2s 102us/step - loss: 0.1806 - accuracy: 0.9421 - val_loss: 0.2618 - val_accuracy: 0.8940\n",
            "Epoch 8/30\n",
            "15000/15000 [==============================] - 2s 102us/step - loss: 0.1536 - accuracy: 0.9511 - val_loss: 0.2578 - val_accuracy: 0.8942\n",
            "Epoch 9/30\n",
            "15000/15000 [==============================] - 2s 101us/step - loss: 0.1318 - accuracy: 0.9583 - val_loss: 0.2602 - val_accuracy: 0.8938\n",
            "Epoch 10/30\n",
            "15000/15000 [==============================] - 2s 101us/step - loss: 0.1137 - accuracy: 0.9647 - val_loss: 0.2680 - val_accuracy: 0.8911\n",
            "Epoch 11/30\n",
            "15000/15000 [==============================] - 2s 100us/step - loss: 0.0977 - accuracy: 0.9701 - val_loss: 0.2779 - val_accuracy: 0.8906\n",
            "Epoch 12/30\n",
            "15000/15000 [==============================] - 2s 100us/step - loss: 0.0836 - accuracy: 0.9754 - val_loss: 0.2902 - val_accuracy: 0.8890\n",
            "Epoch 13/30\n",
            "15000/15000 [==============================] - 2s 101us/step - loss: 0.0708 - accuracy: 0.9796 - val_loss: 0.3066 - val_accuracy: 0.8876\n",
            "Epoch 14/30\n",
            "15000/15000 [==============================] - 2s 101us/step - loss: 0.0604 - accuracy: 0.9844 - val_loss: 0.3300 - val_accuracy: 0.8809\n",
            "Epoch 15/30\n",
            "15000/15000 [==============================] - 2s 101us/step - loss: 0.0504 - accuracy: 0.9877 - val_loss: 0.3455 - val_accuracy: 0.8823\n",
            "Epoch 16/30\n",
            "15000/15000 [==============================] - 2s 101us/step - loss: 0.0413 - accuracy: 0.9917 - val_loss: 0.3739 - val_accuracy: 0.8768\n",
            "Epoch 17/30\n",
            "15000/15000 [==============================] - 2s 103us/step - loss: 0.0335 - accuracy: 0.9938 - val_loss: 0.4016 - val_accuracy: 0.8743\n",
            "Epoch 18/30\n",
            "15000/15000 [==============================] - 2s 102us/step - loss: 0.0266 - accuracy: 0.9953 - val_loss: 0.4299 - val_accuracy: 0.8729\n",
            "Epoch 19/30\n",
            "15000/15000 [==============================] - 2s 102us/step - loss: 0.0208 - accuracy: 0.9969 - val_loss: 0.4532 - val_accuracy: 0.8723\n",
            "Epoch 20/30\n",
            "15000/15000 [==============================] - 2s 102us/step - loss: 0.0159 - accuracy: 0.9980 - val_loss: 0.4848 - val_accuracy: 0.8705\n",
            "Epoch 21/30\n",
            "15000/15000 [==============================] - 2s 102us/step - loss: 0.0118 - accuracy: 0.9986 - val_loss: 0.5207 - val_accuracy: 0.8679\n",
            "Epoch 22/30\n",
            "15000/15000 [==============================] - 2s 102us/step - loss: 0.0088 - accuracy: 0.9992 - val_loss: 0.5526 - val_accuracy: 0.8668\n",
            "Epoch 23/30\n",
            "15000/15000 [==============================] - 2s 103us/step - loss: 0.0063 - accuracy: 0.9995 - val_loss: 0.5913 - val_accuracy: 0.8644\n",
            "Epoch 24/30\n",
            "15000/15000 [==============================] - 2s 102us/step - loss: 0.0043 - accuracy: 0.9997 - val_loss: 0.6266 - val_accuracy: 0.8633\n",
            "Epoch 25/30\n",
            "15000/15000 [==============================] - 2s 102us/step - loss: 0.0031 - accuracy: 0.9998 - val_loss: 0.6668 - val_accuracy: 0.8617\n",
            "Epoch 26/30\n",
            "15000/15000 [==============================] - 2s 102us/step - loss: 0.0021 - accuracy: 0.9999 - val_loss: 0.7094 - val_accuracy: 0.8612\n",
            "Epoch 27/30\n",
            "15000/15000 [==============================] - 2s 101us/step - loss: 0.0013 - accuracy: 0.9999 - val_loss: 0.7547 - val_accuracy: 0.8595\n",
            "Epoch 28/30\n",
            "15000/15000 [==============================] - 2s 102us/step - loss: 8.2858e-04 - accuracy: 0.9999 - val_loss: 0.7974 - val_accuracy: 0.8608\n",
            "Epoch 29/30\n",
            "15000/15000 [==============================] - 2s 102us/step - loss: 5.0853e-04 - accuracy: 1.0000 - val_loss: 0.8527 - val_accuracy: 0.8576\n",
            "Epoch 30/30\n",
            "15000/15000 [==============================] - 2s 102us/step - loss: 3.0137e-04 - accuracy: 1.0000 - val_loss: 0.8925 - val_accuracy: 0.8585\n",
            "25000/25000 [==============================] - 1s 57us/step\n",
            "[1.0528846290779115, 0.8375999927520752]\n"
          ],
          "name": "stdout"
        }
      ]
    },
    {
      "cell_type": "code",
      "metadata": {
        "id": "q3n97of2y5e6",
        "colab_type": "code",
        "colab": {
          "base_uri": "https://localhost:8080/",
          "height": 119
        },
        "outputId": "3e4ac448-370d-4839-e5d9-5305711c0a74"
      },
      "source": [
        "#results from one-hot encoding and tfidf and difference in layers \n",
        "print('The result from one-hot encoding is...  ' + str(results[1]))\n",
        "print('The result from tfidf is...  ' +str(results2[1]))\n",
        "print('The result from difference in layers is..' + str(results3[1]))\n",
        "print('The result from difference in activation function is..' + str(results4[1]))\n",
        "print('The result from difference in loss function is..' + str(results5[1]))\n",
        "print('The result from difference in epoch is..' + str(results6[1]))"
      ],
      "execution_count": 95,
      "outputs": [
        {
          "output_type": "stream",
          "text": [
            "The result from one-hot encoding is...  0.8503199815750122\n",
            "The result from tfidf is...  0.8533999919891357\n",
            "The result from difference in layers is..0.8389999866485596\n",
            "The result from difference in activation function is..0.8523200154304504\n",
            "The result from difference in loss function is..0.856440007686615\n",
            "The result from difference in epoch is..0.8375999927520752\n"
          ],
          "name": "stdout"
        }
      ]
    },
    {
      "cell_type": "markdown",
      "metadata": {
        "id": "ew5oacQLzLuE",
        "colab_type": "text"
      },
      "source": [
        "**THE BEST FUNCTION IS...**"
      ]
    },
    {
      "cell_type": "code",
      "metadata": {
        "id": "CZ3vHJr3zJ7F",
        "colab_type": "code",
        "colab": {
          "base_uri": "https://localhost:8080/",
          "height": 34
        },
        "outputId": "f18e5a49-e319-466b-ad71-2ba13ca6bd71"
      },
      "source": [
        "print('The best result from difference in loss function is..' + str(results5[1]))"
      ],
      "execution_count": 97,
      "outputs": [
        {
          "output_type": "stream",
          "text": [
            "The best result from difference in loss function is..0.856440007686615\n"
          ],
          "name": "stdout"
        }
      ]
    }
  ]
}